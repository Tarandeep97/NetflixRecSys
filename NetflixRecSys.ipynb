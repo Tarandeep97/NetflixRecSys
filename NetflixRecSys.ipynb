{
  "cells": [
    {
      "cell_type": "markdown",
      "metadata": {
        "id": "fPmS2qgA8C5M"
      },
      "source": [
        "# Netflix Prize: Improving Movie Recommendations\n",
        "\n",
        "In 2006, Netflix launched the **Netflix Prize**, offering **$1 million** to anyone who could improve their movie recommendation system by **10%**. Netflix's algorithm at the time, **CineMatch**, had an **RMSE** of **0.9525**. A team from **AT&T Labs** won the prize by reducing the RMSE to **0.8572**—a major improvement.\n",
        "\n",
        "### Why Matrix Factorization?\n",
        "\n",
        "The competition showed that **matrix factorization models** were far superior to traditional **nearest-neighbor** techniques for recommendations. These models allowed Netflix to incorporate:\n",
        "\n",
        "- **Implicit feedback** (user behavior like clicks/views).\n",
        "- **Temporal effects** (how preferences change over time).\n",
        "- **Confidence levels** (weighting interactions based on context).\n",
        "\n",
        "### Key Results\n",
        "\n",
        "- **CineMatch RMSE**: 0.9525\n",
        "- **AT&T Labs RMSE**: 0.8572\n",
        "- **Improvement**: Over 10%\n",
        "\n",
        "Matrix factorization remains a core part of Netflix’s recommender system today.\n",
        "\n",
        "---"
      ]
    },
    {
      "cell_type": "markdown",
      "metadata": {
        "id": "gtz7yfHz57-Q"
      },
      "source": [
        "### 1. importing packages"
      ]
    },
    {
      "cell_type": "code",
      "execution_count": 3,
      "metadata": {
        "id": "hYi0hFKK57-T"
      },
      "outputs": [],
      "source": [
        "import os\n",
        "import random\n",
        "import matplotlib\n",
        "matplotlib.use('notebook')\n",
        "import numpy as np\n",
        "import pandas as pd\n",
        "import seaborn as sns\n",
        "from datetime import datetime\n",
        "\n",
        "%matplotlib inline\n",
        "import matplotlib.pyplot as plt\n",
        "\n",
        "from scipy import sparse\n",
        "from scipy.sparse import csr_matrix\n",
        "from sklearn.decomposition import TruncatedSVD\n",
        "from sklearn.metrics.pairwise import cosine_similarity"
      ]
    },
    {
      "cell_type": "markdown",
      "metadata": {
        "id": "T6gsmLgb57-V"
      },
      "source": [
        "### 2. Data Preprocessing"
      ]
    },
    {
      "cell_type": "markdown",
      "metadata": {
        "id": "Q71wJcYM57-V"
      },
      "source": [
        "##### 2.1 Converting all the txt file to one file which will be in user, movie, rating, Date format"
      ]
    },
    {
      "cell_type": "code",
      "execution_count": 4,
      "metadata": {
        "colab": {
          "base_uri": "https://localhost:8080/"
        },
        "id": "etO4Gecn57-V",
        "outputId": "f8897e33-f773-43cb-9951-55e7e24f1978"
      },
      "outputs": [
        {
          "name": "stdout",
          "output_type": "stream",
          "text": [
            "Time taken : 0:00:00.000627\n"
          ]
        }
      ],
      "source": [
        "start = datetime.now()\n",
        "if not os.path.isfile('data.csv'):\n",
        "    data = open('data.csv', mode='w')\n",
        "\n",
        "    row = list()\n",
        "    files=['data/combined_data_1.txt','data/combined_data_2.txt',\n",
        "           'data/combined_data_3.txt', 'data/combined_data_4.txt']\n",
        "    for file in files:\n",
        "        print(\"Reading ratings from {}...\".format(file))\n",
        "        with open(file) as f:\n",
        "            for line in f:\n",
        "                del row[:]\n",
        "                line = line.strip()\n",
        "                if line.endswith(':'):\n",
        "                    movie_id = line.replace(':', '')\n",
        "                else:\n",
        "                    row = [x for x in line.split(',')]\n",
        "                    row.insert(0, movie_id)\n",
        "                    data.write(','.join(row))\n",
        "                    data.write('\\n')\n",
        "        print(\"Done.\\n\")\n",
        "    data.close()\n",
        "print('Time taken :', datetime.now() - start)"
      ]
    },
    {
      "cell_type": "markdown",
      "metadata": {
        "id": "IcoOwdrZ57-X"
      },
      "source": [
        "##### 2.2 Reading Data in CSV file"
      ]
    },
    {
      "cell_type": "code",
      "execution_count": 5,
      "metadata": {
        "colab": {
          "base_uri": "https://localhost:8080/"
        },
        "id": "nJGtzf8Y57-X",
        "outputId": "6fd716ca-e592-46ce-dc47-35232cffc3f5"
      },
      "outputs": [
        {
          "name": "stdout",
          "output_type": "stream",
          "text": [
            "Done.\n",
            "\n",
            "Time taken : 0:00:48.313306\n"
          ]
        }
      ],
      "source": [
        "start = datetime.now()\n",
        "df = pd.read_csv('data.csv', sep=',',\n",
        "                       names=['movie', 'user','rating','date'])\n",
        "df.date = pd.to_datetime(df.date)\n",
        "print('Done.\\n')\n",
        "\n",
        "df.sort_values(by='date', inplace=True)\n",
        "print('Time taken :', datetime.now() - start)"
      ]
    },
    {
      "cell_type": "code",
      "execution_count": 6,
      "metadata": {
        "colab": {
          "base_uri": "https://localhost:8080/",
          "height": 206
        },
        "id": "KVBwRgEd57-Y",
        "outputId": "d40984d5-b33a-462a-cfa0-f0d7449d12e3"
      },
      "outputs": [
        {
          "data": {
            "text/html": [
              "<div>\n",
              "<style scoped>\n",
              "    .dataframe tbody tr th:only-of-type {\n",
              "        vertical-align: middle;\n",
              "    }\n",
              "\n",
              "    .dataframe tbody tr th {\n",
              "        vertical-align: top;\n",
              "    }\n",
              "\n",
              "    .dataframe thead th {\n",
              "        text-align: right;\n",
              "    }\n",
              "</style>\n",
              "<table border=\"1\" class=\"dataframe\">\n",
              "  <thead>\n",
              "    <tr style=\"text-align: right;\">\n",
              "      <th></th>\n",
              "      <th>movie</th>\n",
              "      <th>user</th>\n",
              "      <th>rating</th>\n",
              "      <th>date</th>\n",
              "    </tr>\n",
              "  </thead>\n",
              "  <tbody>\n",
              "    <tr>\n",
              "      <th>56431994</th>\n",
              "      <td>10341</td>\n",
              "      <td>510180</td>\n",
              "      <td>4</td>\n",
              "      <td>1999-11-11</td>\n",
              "    </tr>\n",
              "    <tr>\n",
              "      <th>9056171</th>\n",
              "      <td>1798</td>\n",
              "      <td>510180</td>\n",
              "      <td>5</td>\n",
              "      <td>1999-11-11</td>\n",
              "    </tr>\n",
              "    <tr>\n",
              "      <th>58698779</th>\n",
              "      <td>10774</td>\n",
              "      <td>510180</td>\n",
              "      <td>3</td>\n",
              "      <td>1999-11-11</td>\n",
              "    </tr>\n",
              "    <tr>\n",
              "      <th>48101611</th>\n",
              "      <td>8651</td>\n",
              "      <td>510180</td>\n",
              "      <td>2</td>\n",
              "      <td>1999-11-11</td>\n",
              "    </tr>\n",
              "    <tr>\n",
              "      <th>81893208</th>\n",
              "      <td>14660</td>\n",
              "      <td>510180</td>\n",
              "      <td>2</td>\n",
              "      <td>1999-11-11</td>\n",
              "    </tr>\n",
              "  </tbody>\n",
              "</table>\n",
              "</div>"
            ],
            "text/plain": [
              "          movie    user  rating       date\n",
              "56431994  10341  510180       4 1999-11-11\n",
              "9056171    1798  510180       5 1999-11-11\n",
              "58698779  10774  510180       3 1999-11-11\n",
              "48101611   8651  510180       2 1999-11-11\n",
              "81893208  14660  510180       2 1999-11-11"
            ]
          },
          "execution_count": 6,
          "metadata": {},
          "output_type": "execute_result"
        }
      ],
      "source": [
        "df.head()"
      ]
    },
    {
      "cell_type": "code",
      "execution_count": 8,
      "metadata": {
        "colab": {
          "base_uri": "https://localhost:8080/"
        },
        "id": "BMicfJXU57-Z",
        "outputId": "9b0c4633-ab6a-41e2-df5a-eba4a4f02c32"
      },
      "outputs": [
        {
          "name": "stdout",
          "output_type": "stream",
          "text": [
            "Total data \n",
            "--------------------------------------------------\n",
            "\n",
            "Total no of ratings : 100480507\n",
            "Total No of Users   : 480189\n",
            "Total No of movies  : 17770\n"
          ]
        }
      ],
      "source": [
        "print(\"Total data \")\n",
        "print(\"-\"*50)\n",
        "print(\"\\nTotal no of ratings :\",df.shape[0])\n",
        "print(\"Total No of Users   :\", len(np.unique(df.user)))\n",
        "print(\"Total No of movies  :\", len(np.unique(df.movie)))"
      ]
    },
    {
      "cell_type": "markdown",
      "metadata": {
        "id": "n7bvXNY757-a"
      },
      "source": [
        "##### 2.3 Train-Test split"
      ]
    },
    {
      "cell_type": "code",
      "execution_count": 9,
      "metadata": {
        "colab": {
          "base_uri": "https://localhost:8080/"
        },
        "id": "yk1ig4kr57-a",
        "outputId": "78c44539-ef80-4089-eefc-97a520ee3ed0"
      },
      "outputs": [
        {
          "name": "stdout",
          "output_type": "stream",
          "text": [
            "Time taken : 0:04:07.156950\n"
          ]
        }
      ],
      "source": [
        "start = datetime.now()\n",
        "if not os.path.isfile('train.csv'):\n",
        "    df.iloc[:int(df.shape[0]*0.80)].to_csv(\"train.csv\", index=False)\n",
        "\n",
        "if not os.path.isfile('test.csv'):\n",
        "    df.iloc[int(df.shape[0]*0.80):].to_csv(\"test.csv\", index=False)\n",
        "\n",
        "train_df = pd.read_csv(\"train.csv\", parse_dates=['date'])\n",
        "test_df = pd.read_csv(\"test.csv\")\n",
        "print('Time taken :', datetime.now() - start)"
      ]
    },
    {
      "cell_type": "code",
      "execution_count": 10,
      "metadata": {
        "colab": {
          "base_uri": "https://localhost:8080/"
        },
        "id": "q1fqpYd357-a",
        "outputId": "cdd7ca40-d0e9-40b0-9178-8a1bf62215c0"
      },
      "outputs": [
        {
          "name": "stdout",
          "output_type": "stream",
          "text": [
            "Training data \n",
            "--------------------------------------------------\n",
            "\n",
            "Total no of ratings : 80384405\n",
            "Total No of Users   : 405041\n",
            "Total No of movies  : 17424\n"
          ]
        }
      ],
      "source": [
        "print(\"Training data \")\n",
        "print(\"-\"*50)\n",
        "print(\"\\nTotal no of ratings :\",train_df.shape[0])\n",
        "print(\"Total No of Users   :\", len(np.unique(train_df.user)))\n",
        "print(\"Total No of movies  :\", len(np.unique(train_df.movie)))"
      ]
    },
    {
      "cell_type": "code",
      "execution_count": 11,
      "metadata": {
        "colab": {
          "base_uri": "https://localhost:8080/"
        },
        "id": "cCLa8hn-57-b",
        "outputId": "b797bf27-70c7-41a1-a746-c5cc1832e35e"
      },
      "outputs": [
        {
          "name": "stdout",
          "output_type": "stream",
          "text": [
            "Test data \n",
            "--------------------------------------------------\n",
            "\n",
            "Total no of ratings : 20096102\n",
            "Total No of Users   : 349312\n",
            "Total No of movies  : 17757\n"
          ]
        }
      ],
      "source": [
        "print(\"Test data \")\n",
        "print(\"-\"*50)\n",
        "print(\"\\nTotal no of ratings :\",test_df.shape[0])\n",
        "print(\"Total No of Users   :\", len(np.unique(test_df.user)))\n",
        "print(\"Total No of movies  :\", len(np.unique(test_df.movie)))"
      ]
    },
    {
      "cell_type": "markdown",
      "metadata": {
        "id": "vxacJtomGMZV"
      },
      "source": [
        "##### 2.4 Extracting day_of_week imformation from the existing data column from Dataset"
      ]
    },
    {
      "cell_type": "code",
      "execution_count": 12,
      "metadata": {
        "colab": {
          "base_uri": "https://localhost:8080/",
          "height": 211
        },
        "id": "1cxzzSF957-b",
        "outputId": "d3bb287b-a81b-41ca-8715-7679cb74f05e"
      },
      "outputs": [
        {
          "data": {
            "text/html": [
              "<div>\n",
              "<style scoped>\n",
              "    .dataframe tbody tr th:only-of-type {\n",
              "        vertical-align: middle;\n",
              "    }\n",
              "\n",
              "    .dataframe tbody tr th {\n",
              "        vertical-align: top;\n",
              "    }\n",
              "\n",
              "    .dataframe thead th {\n",
              "        text-align: right;\n",
              "    }\n",
              "</style>\n",
              "<table border=\"1\" class=\"dataframe\">\n",
              "  <thead>\n",
              "    <tr style=\"text-align: right;\">\n",
              "      <th></th>\n",
              "      <th>movie</th>\n",
              "      <th>user</th>\n",
              "      <th>rating</th>\n",
              "      <th>date</th>\n",
              "      <th>day_of_week</th>\n",
              "    </tr>\n",
              "  </thead>\n",
              "  <tbody>\n",
              "    <tr>\n",
              "      <th>80384400</th>\n",
              "      <td>12074</td>\n",
              "      <td>2033618</td>\n",
              "      <td>4</td>\n",
              "      <td>2005-08-08</td>\n",
              "      <td>Monday</td>\n",
              "    </tr>\n",
              "    <tr>\n",
              "      <th>80384401</th>\n",
              "      <td>862</td>\n",
              "      <td>1797061</td>\n",
              "      <td>3</td>\n",
              "      <td>2005-08-08</td>\n",
              "      <td>Monday</td>\n",
              "    </tr>\n",
              "    <tr>\n",
              "      <th>80384402</th>\n",
              "      <td>10986</td>\n",
              "      <td>1498715</td>\n",
              "      <td>5</td>\n",
              "      <td>2005-08-08</td>\n",
              "      <td>Monday</td>\n",
              "    </tr>\n",
              "    <tr>\n",
              "      <th>80384403</th>\n",
              "      <td>14861</td>\n",
              "      <td>500016</td>\n",
              "      <td>4</td>\n",
              "      <td>2005-08-08</td>\n",
              "      <td>Monday</td>\n",
              "    </tr>\n",
              "    <tr>\n",
              "      <th>80384404</th>\n",
              "      <td>5926</td>\n",
              "      <td>1044015</td>\n",
              "      <td>5</td>\n",
              "      <td>2005-08-08</td>\n",
              "      <td>Monday</td>\n",
              "    </tr>\n",
              "  </tbody>\n",
              "</table>\n",
              "</div>"
            ],
            "text/plain": [
              "          movie     user  rating       date day_of_week\n",
              "80384400  12074  2033618       4 2005-08-08      Monday\n",
              "80384401    862  1797061       3 2005-08-08      Monday\n",
              "80384402  10986  1498715       5 2005-08-08      Monday\n",
              "80384403  14861   500016       4 2005-08-08      Monday\n",
              "80384404   5926  1044015       5 2005-08-08      Monday"
            ]
          },
          "execution_count": 12,
          "metadata": {},
          "output_type": "execute_result"
        }
      ],
      "source": [
        "pd.options.mode.chained_assignment = None\n",
        "\n",
        "train_df['day_of_week'] = train_df.date.dt.day_name()\n",
        "\n",
        "train_df.tail()"
      ]
    },
    {
      "cell_type": "markdown",
      "metadata": {
        "id": "xEK_WgJJ57-b"
      },
      "source": [
        "### 3. Exploratory data analysis (EDA) on training Dataset"
      ]
    },
    {
      "cell_type": "code",
      "execution_count": 13,
      "metadata": {
        "id": "_8L4SLrD57-b"
      },
      "outputs": [],
      "source": [
        "def human(num, units = 'm'):\n",
        "    units = units.lower()\n",
        "    num = float(num)\n",
        "    if units == 'k':\n",
        "        return str(num/10**3) + \" K\"\n",
        "    elif units == 'm':\n",
        "        return str(num/10**6) + \" M\"\n",
        "    elif units == 'b':\n",
        "        return str(num/10**9) +  \" B\""
      ]
    },
    {
      "cell_type": "markdown",
      "metadata": {
        "id": "MzdZNpq357-b"
      },
      "source": [
        "##### 3.1 Graph for Number of rating per year in Training data"
      ]
    },
    {
      "cell_type": "code",
      "execution_count": 18,
      "metadata": {
        "id": "WumiV4N_57-c"
      },
      "outputs": [
        {
          "data": {
            "image/png": "[encoded data removed]",
            "text/plain": [
              "<Figure size 1000x600 with 1 Axes>"
            ]
          },
          "metadata": {},
          "output_type": "display_data"
        }
      ],
      "source": [
        "sns.set(style=\"whitegrid\")\n",
        "\n",
        "ax = train_df.resample('ME', on='date')['rating'].count().plot(\n",
        "    figsize=(10, 6), color=sns.color_palette(\"Blues\", 1)[0])\n",
        "\n",
        "ax.set_title('No. of Ratings per Month (Training Data)', fontsize=16, fontweight='bold')\n",
        "plt.xlabel('Month', fontsize=12)\n",
        "plt.ylabel('No. of Ratings (per month)', fontsize=12)\n",
        "\n",
        "plt.xticks(rotation=45, ha='right')\n",
        "\n",
        "ax.set_yticks(ax.get_yticks())\n",
        "ax.set_yticklabels([human(item, 'M') for item in ax.get_yticks()], fontsize=10)\n",
        "\n",
        "plt.grid(True, which='both', axis='both', linestyle='--', linewidth=0.7, alpha=0.7)\n",
        "\n",
        "plt.tight_layout()\n",
        "plt.show()"
      ]
    },
    {
      "cell_type": "markdown",
      "metadata": {
        "id": "LIZuWaRf57-d"
      },
      "source": [
        "##### 3.2 quantiles plot of number of movies rated by user"
      ]
    },
    {
      "cell_type": "code",
      "execution_count": 21,
      "metadata": {
        "id": "175Z7uXm57-d"
      },
      "outputs": [],
      "source": [
        "no_of_rated_movies_per_user = train_df.groupby('user')['rating'].count()\n",
        "quantiles = no_of_rated_movies_per_user.quantile(np.arange(0,1.01,0.01), interpolation='higher')"
      ]
    },
    {
      "cell_type": "code",
      "execution_count": 23,
      "metadata": {
        "id": "Zr26Jun557-d"
      },
      "outputs": [
        {
          "data": {
            "image/png": "[encoded data removed]",
            "text/plain": [
              "<Figure size 1000x600 with 1 Axes>"
            ]
          },
          "metadata": {},
          "output_type": "display_data"
        }
      ],
      "source": [
        "sns.set(style=\"whitegrid\")\n",
        "\n",
        "plt.figure(figsize=(10, 6))\n",
        "plt.title(\"Quantiles and their Values\", fontsize=16, fontweight='bold')\n",
        "\n",
        "\n",
        "quantiles.plot(color='blue', linewidth=2)\n",
        "\n",
        "plt.scatter(x=quantiles.index[::5], y=quantiles.values[::5], c='orange', label=\"Quantiles with 0.05 intervals\", s=50)\n",
        "plt.scatter(x=quantiles.index[::25], y=quantiles.values[::25], c='magenta', label=\"Quantiles with 0.25 intervals\", s=70)\n",
        "\n",
        "\n",
        "plt.ylabel('No. of Ratings by User', fontsize=12)\n",
        "plt.xlabel('Value at the Quantile', fontsize=12)\n",
        "plt.legend(loc='best', fontsize=10)\n",
        "\n",
        "for x, y in zip(quantiles.index[::25], quantiles[::25]):\n",
        "    plt.annotate(text=f\"({x:.2f}, {y})\", xy=(x, y), xytext=(x-0.03, y+500),\n",
        "                 textcoords='data', arrowprops=dict(arrowstyle=\"->\", color='gray'),\n",
        "                 fontsize=10, fontweight='bold', color='black')\n",
        "\n",
        "plt.grid(True, linestyle='--', linewidth=0.7, alpha=0.7)\n",
        "\n",
        "plt.tight_layout()\n",
        "plt.show()"
      ]
    },
    {
      "cell_type": "markdown",
      "metadata": {
        "id": "Mpz2J5uS57-d"
      },
      "source": [
        "##### 3.3 plot for number of ratings per weekday"
      ]
    },
    {
      "cell_type": "code",
      "execution_count": 25,
      "metadata": {
        "id": "sBpIgXLi57-e"
      },
      "outputs": [
        {
          "name": "stderr",
          "output_type": "stream",
          "text": [
            "/tmp/ipykernel_1992973/1512034742.py:3: FutureWarning: \n",
            "\n",
            "Passing `palette` without assigning `hue` is deprecated and will be removed in v0.14.0. Assign the `x` variable to `hue` and set `legend=False` for the same effect.\n",
            "\n",
            "  sns.countplot(x='day_of_week', data=train_df, ax=ax, palette='Blues_d')\n"
          ]
        },
        {
          "data": {
            "image/png": "[encoded data removed]",
            "text/plain": [
              "<Figure size 800x600 with 1 Axes>"
            ]
          },
          "metadata": {},
          "output_type": "display_data"
        }
      ],
      "source": [
        "fig, ax = plt.subplots(figsize=(8, 6))\n",
        "sns.countplot(x='day_of_week', data=train_df, ax=ax, palette='Blues_d')\n",
        "plt.title('No. of Ratings on Each Day of the Week', fontsize=16, fontweight='bold')\n",
        "plt.ylabel('Total No. of Ratings', fontsize=12)\n",
        "plt.xlabel('Day of the Week', fontsize=12)\n",
        "ax.set_yticks(ax.get_yticks())\n",
        "ax.set_yticklabels([human(item, 'M') for item in ax.get_yticks()], fontsize=10)\n",
        "plt.xticks(rotation=45, ha='right')\n",
        "plt.grid(True, linestyle='--', linewidth=0.7, alpha=0.7)\n",
        "plt.tight_layout()\n",
        "plt.show()"
      ]
    },
    {
      "cell_type": "markdown",
      "metadata": {
        "id": "pR01qaBa57-e"
      },
      "source": [
        "##### 3.4 BOX plot for value of ratings given on each weekday"
      ]
    },
    {
      "cell_type": "code",
      "execution_count": 26,
      "metadata": {
        "id": "Mln3ThGs57-e"
      },
      "outputs": [
        {
          "name": "stderr",
          "output_type": "stream",
          "text": [
            "/tmp/ipykernel_1992973/2201377110.py:3: FutureWarning: \n",
            "\n",
            "Passing `palette` without assigning `hue` is deprecated and will be removed in v0.14.0. Assign the `x` variable to `hue` and set `legend=False` for the same effect.\n",
            "\n",
            "  sns.boxplot(y='rating', x='day_of_week', data=train_df, palette='coolwarm')\n"
          ]
        },
        {
          "data": {
            "image/png": "[encoded data removed]",
            "text/plain": [
              "<Figure size 1066.67x480 with 1 Axes>"
            ]
          },
          "metadata": {},
          "output_type": "display_data"
        },
        {
          "name": "stdout",
          "output_type": "stream",
          "text": [
            "0:02:32.955744\n"
          ]
        }
      ],
      "source": [
        "start = datetime.now()\n",
        "fig = plt.figure(figsize=plt.figaspect(.45))\n",
        "sns.boxplot(y='rating', x='day_of_week', data=train_df, palette='coolwarm')\n",
        "plt.title('Distribution of Ratings by Day of the Week', fontsize=16, fontweight='bold')\n",
        "plt.xlabel('Day of the Week', fontsize=12)\n",
        "plt.ylabel('Rating', fontsize=12)\n",
        "plt.xticks(rotation=45, ha='right')\n",
        "plt.tight_layout()\n",
        "plt.show()\n",
        "print(datetime.now() - start)"
      ]
    },
    {
      "cell_type": "markdown",
      "metadata": {
        "id": "5lu-7ExW57-e"
      },
      "source": [
        "### 4. Creating sparse matric representation our data"
      ]
    },
    {
      "cell_type": "markdown",
      "metadata": {
        "id": "guDa39DW57-e"
      },
      "source": [
        "##### 4.1 Creating sparse matric representation our train data"
      ]
    },
    {
      "cell_type": "code",
      "execution_count": 27,
      "metadata": {
        "id": "69IDCc3E57-f"
      },
      "outputs": [
        {
          "name": "stdout",
          "output_type": "stream",
          "text": [
            "Done. It's shape is : (user, movie) :  (2649430, 17771)\n",
            "Saving it into disk for furthur usage..\n",
            "Done..\n",
            "\n",
            "0:00:44.446493\n"
          ]
        }
      ],
      "source": [
        "start = datetime.now()\n",
        "if os.path.isfile('train_sparse_matrix.npz'):\n",
        "    train_sparse_matrix = sparse.load_npz('train_sparse_matrix.npz')\n",
        "    print(\"DONE..\")\n",
        "else:\n",
        "    train_sparse_matrix = sparse.csr_matrix((train_df.rating.values, (train_df.user.values,\n",
        "                                               train_df.movie.values)),)\n",
        "\n",
        "    print('Done. It\\'s shape is : (user, movie) : ',train_sparse_matrix.shape)\n",
        "    print('Saving it into disk for furthur usage..')\n",
        "    sparse.save_npz(\"train_sparse_matrix.npz\", train_sparse_matrix)\n",
        "    print('Done..\\n')\n",
        "\n",
        "print(datetime.now() - start)"
      ]
    },
    {
      "cell_type": "markdown",
      "metadata": {
        "id": "D6Prpxm-57-f"
      },
      "source": [
        "##### 4.2 Creating sparse matric representatio our test data"
      ]
    },
    {
      "cell_type": "code",
      "execution_count": 28,
      "metadata": {
        "id": "-J4zJIHe57-f"
      },
      "outputs": [
        {
          "name": "stdout",
          "output_type": "stream",
          "text": [
            "We are creating sparse_matrix from the dataframe..\n",
            "Done. It's shape is : (user, movie) :  (2649430, 17771)\n",
            "Saving it into disk for furthur usage..\n",
            "Done..\n",
            "\n",
            "0:00:12.237850\n"
          ]
        }
      ],
      "source": [
        "start = datetime.now()\n",
        "if os.path.isfile('test_sparse_matrix.npz'):\n",
        "    print(\"It is present in your pwd, getting it from disk....\")\n",
        "    test_sparse_matrix = sparse.load_npz('test_sparse_matrix.npz')\n",
        "    print(\"DONE..\")\n",
        "else:\n",
        "    print(\"We are creating sparse_matrix from the dataframe..\")\n",
        "    test_sparse_matrix = sparse.csr_matrix((test_df.rating.values, (test_df.user.values,\n",
        "                                               test_df.movie.values)))\n",
        "\n",
        "    print('Done. It\\'s shape is : (user, movie) : ',test_sparse_matrix.shape)\n",
        "    print('Saving it into disk for furthur usage..')\n",
        "    sparse.save_npz(\"test_sparse_matrix.npz\", test_sparse_matrix)\n",
        "    print('Done..\\n')\n",
        "\n",
        "print(datetime.now() - start)"
      ]
    },
    {
      "cell_type": "markdown",
      "metadata": {
        "id": "VrFQPnNG57-f"
      },
      "source": [
        "### 5. Function for User-user similarity"
      ]
    },
    {
      "cell_type": "markdown",
      "metadata": {
        "id": "evrEPrJLI7gW"
      },
      "source": [
        "* **\"Users who have agreed in the past tends to agree in the\n",
        "future\"**. \\\n",
        "With this idea, we aimed to find similar users using cosine similarity\n",
        "$$\n",
        "\\begin{align}\n",
        "             sim(u_{i}, u_{j}) = \\dfrac {u^T_{i} \\cdot u_{j}} {\\left\\| u_{i}\\right\\| _{2}\\left\\| u_{j}\\right\\| _{2}}\n",
        "\\end{align}\n",
        "$$\n",
        "         "
      ]
    },
    {
      "cell_type": "code",
      "execution_count": 29,
      "metadata": {
        "id": "pgs21sBN57-g"
      },
      "outputs": [],
      "source": [
        "from sklearn.metrics.pairwise import cosine_similarity\n",
        "\n",
        "\n",
        "def compute_user_similarity(sparse_matrix, compute_for_few=False, top = 100, verbose=False, verb_for_n_rows = 20,draw_time_taken=True):\n",
        "    no_of_users, _ = sparse_matrix.shape\n",
        "    row_ind, col_ind = sparse_matrix.nonzero()\n",
        "    row_ind = sorted(set(row_ind))\n",
        "    time_taken = list()\n",
        "\n",
        "    rows, cols, data = list(), list(), list()\n",
        "    if verbose: print(\"Computing top\",top,\"similarities for each user..\")\n",
        "\n",
        "    start = datetime.now()\n",
        "    temp = 0\n",
        "    for row in row_ind[:top] if compute_for_few else row_ind:\n",
        "        temp = temp+1\n",
        "        prev = datetime.now()\n",
        "        sim = cosine_similarity(sparse_matrix.getrow(row), sparse_matrix).ravel()\n",
        "        top_sim_ind = sim.argsort()[-top:]\n",
        "        top_sim_val = sim[top_sim_ind]\n",
        "        rows.extend([row]*top)\n",
        "        cols.extend(top_sim_ind)\n",
        "        data.extend(top_sim_val)\n",
        "        time_taken.append(datetime.now().timestamp() - prev.timestamp())\n",
        "        if verbose:\n",
        "            if temp%verb_for_n_rows == 0:\n",
        "                print(\"computing done for {} users [  time elapsed : {}  ]\"\n",
        "                      .format(temp, datetime.now()-start))\n",
        "\n",
        "    if verbose:\n",
        "      print('Creating Sparse matrix from the computed similarities')\n",
        "\n",
        "    if draw_time_taken:\n",
        "        plt.plot(time_taken, label = 'time taken for each user')\n",
        "        plt.plot(np.cumsum(time_taken), label='Total time')\n",
        "        plt.legend(loc='best')\n",
        "        plt.xlabel('User')\n",
        "        plt.ylabel('Time (seconds)')\n",
        "        plt.show()\n",
        "\n",
        "    return sparse.csr_matrix((data, (rows, cols)), shape=(no_of_users, no_of_users)), time_taken"
      ]
    },
    {
      "cell_type": "markdown",
      "metadata": {
        "id": "RHIVGSIY57-g"
      },
      "source": [
        "### 6. Function Sampling data from the sparse matrix"
      ]
    },
    {
      "cell_type": "markdown",
      "metadata": {
        "id": "g99RWLjTgAqo"
      },
      "source": [
        "* Original Train dataset\n",
        "> Total no of ratings : 80384405\\\n",
        "  Total No of Users   : 405041\\\n",
        "   Total No of movies  : 17424\n",
        "\n",
        "* Original Test dataset\n",
        "> Total no of ratings : 20096102\\\n",
        "  Total No of Users   : 349312\\\n",
        "  Total No of movies  : 17757\n",
        "\n",
        "* Because of the hardware constrain we are sampling 9000 users and 1200 movies from the train data and 4000 users and 800 movies from the test data."
      ]
    },
    {
      "cell_type": "code",
      "execution_count": 30,
      "metadata": {
        "id": "F4TmR3R157-g"
      },
      "outputs": [],
      "source": [
        "def get_sample_sparse_matrix(sparse_matrix, no_users, no_movies, path, verbose = True):\n",
        "    row_ind, col_ind, ratings = sparse.find(sparse_matrix)\n",
        "    users = np.unique(row_ind)\n",
        "    movies = np.unique(col_ind)\n",
        "\n",
        "    print(\"Original Matrix : (users, movies) -- ({} {})\".format(len(users), len(movies)))\n",
        "    print(\"Original Matrix : Ratings -- {}\\n\".format(len(ratings)))\n",
        "\n",
        "    np.random.seed(15)\n",
        "    sample_users = np.random.choice(users, no_users, replace=False)\n",
        "    sample_movies = np.random.choice(movies, no_movies, replace=False)\n",
        "    mask = np.logical_and( np.isin(row_ind, sample_users),\n",
        "                      np.isin(col_ind, sample_movies) )\n",
        "\n",
        "    sample_sparse_matrix = sparse.csr_matrix((ratings[mask], (row_ind[mask], col_ind[mask])),\n",
        "                                             shape=(max(sample_users)+1, max(sample_movies)+1))\n",
        "\n",
        "    if verbose:\n",
        "        print(\"Sampled Matrix : (users, movies) -- ({} {})\".format(len(sample_users), len(sample_movies)))\n",
        "        print(\"Sampled Matrix : Ratings --\", format(ratings[mask].shape[0]))\n",
        "\n",
        "    print('Saving it into disk for furthur usage..')\n",
        "    sparse.save_npz(path, sample_sparse_matrix)\n",
        "    if verbose:\n",
        "            print('Done..\\n')\n",
        "\n",
        "    return sample_sparse_matrix"
      ]
    },
    {
      "cell_type": "markdown",
      "metadata": {
        "id": "CIp4danI57-h"
      },
      "source": [
        "##### 6.1 sampling train data from the sparse matrix representation of our train data"
      ]
    },
    {
      "cell_type": "code",
      "execution_count": 31,
      "metadata": {
        "id": "cYZ-Zhv257-h"
      },
      "outputs": [
        {
          "name": "stdout",
          "output_type": "stream",
          "text": [
            "Original Matrix : (users, movies) -- (405041 17424)\n",
            "Original Matrix : Ratings -- 80384405\n",
            "\n",
            "Sampled Matrix : (users, movies) -- (9000 1200)\n",
            "Sampled Matrix : Ratings -- 131824\n",
            "Saving it into disk for furthur usage..\n",
            "Done..\n",
            "\n",
            "0:00:20.687115\n"
          ]
        }
      ],
      "source": [
        "start = datetime.now()\n",
        "path = \"sample_train_sparse_matrix.npz\"\n",
        "if os.path.isfile(path):\n",
        "    print(\"It is present in your pwd, getting it from disk....\")\n",
        "    sample_train_sparse_matrix = sparse.load_npz(path)\n",
        "    print(\"DONE..\")\n",
        "else:\n",
        "    sample_train_sparse_matrix = get_sample_sparse_matrix(train_sparse_matrix, no_users=9000, no_movies=1200,\n",
        "                                             path = path)\n",
        "\n",
        "print(datetime.now() - start)"
      ]
    },
    {
      "cell_type": "markdown",
      "metadata": {
        "id": "VQuIxwjB57-i"
      },
      "source": [
        "##### 6.2 sampling test data from the sparse matrix representation of our test data"
      ]
    },
    {
      "cell_type": "code",
      "execution_count": 32,
      "metadata": {
        "id": "S3vNXXhW57-j"
      },
      "outputs": [
        {
          "name": "stdout",
          "output_type": "stream",
          "text": [
            "Original Matrix : (users, movies) -- (349312 17757)\n",
            "Original Matrix : Ratings -- 20096102\n",
            "\n",
            "Sampled Matrix : (users, movies) -- (4000 800)\n",
            "Sampled Matrix : Ratings -- 10549\n",
            "Saving it into disk for furthur usage..\n",
            "Done..\n",
            "\n",
            "0:00:05.213580\n"
          ]
        }
      ],
      "source": [
        "start = datetime.now()\n",
        "\n",
        "path = \"sample_test_sparse_matrix.npz\"\n",
        "if os.path.isfile(path):\n",
        "    print(\"It is present in your pwd, getting it from disk....\")\n",
        "    sample_test_sparse_matrix = sparse.load_npz(path)\n",
        "    print(\"DONE..\")\n",
        "else:\n",
        "    sample_test_sparse_matrix = get_sample_sparse_matrix(test_sparse_matrix, no_users=4000, no_movies=800,\n",
        "                                                 path = \"sample_test_sparse_matrix.npz\")\n",
        "print(datetime.now() - start)"
      ]
    },
    {
      "cell_type": "code",
      "execution_count": 33,
      "metadata": {
        "id": "JP5Ibuny57-j"
      },
      "outputs": [],
      "source": [
        "sample_train_averages = dict()"
      ]
    },
    {
      "cell_type": "code",
      "execution_count": 34,
      "metadata": {
        "id": "4zRQZII657-j"
      },
      "outputs": [
        {
          "data": {
            "text/plain": [
              "{'global': 3.5532755795606263}"
            ]
          },
          "execution_count": 34,
          "metadata": {},
          "output_type": "execute_result"
        }
      ],
      "source": [
        "global_average = sample_train_sparse_matrix.sum()/sample_train_sparse_matrix.count_nonzero()\n",
        "sample_train_averages['global'] = global_average\n",
        "sample_train_averages"
      ]
    },
    {
      "cell_type": "code",
      "execution_count": 35,
      "metadata": {
        "id": "zeVcyJHb57-k"
      },
      "outputs": [],
      "source": [
        "def get_average_ratings(sparse_matrix, of_users):\n",
        "\n",
        "    ax = 1 if of_users else 0\n",
        "\n",
        "    sum_of_ratings = sparse_matrix.sum(axis=ax).A1\n",
        "    is_rated = sparse_matrix!=0\n",
        "    no_of_ratings = is_rated.sum(axis=ax).A1\n",
        "\n",
        "    u,m = sparse_matrix.shape\n",
        "    average_ratings = { i : sum_of_ratings[i]/no_of_ratings[i]\n",
        "                                 for i in range(u if of_users else m)\n",
        "                                    if no_of_ratings[i] !=0}\n",
        "\n",
        "    return average_ratings"
      ]
    },
    {
      "cell_type": "code",
      "execution_count": 36,
      "metadata": {
        "id": "oJY0OrjS57-k"
      },
      "outputs": [
        {
          "name": "stdout",
          "output_type": "stream",
          "text": [
            "\n",
            "Average rating of user 1515220 : 3.8857142857142857\n"
          ]
        }
      ],
      "source": [
        "sample_train_averages['user'] = get_average_ratings(sample_train_sparse_matrix, of_users=True)\n",
        "print('\\nAverage rating of user 1515220 :',sample_train_averages['user'][1515220])"
      ]
    },
    {
      "cell_type": "code",
      "execution_count": 40,
      "metadata": {
        "id": "sxx0Tuws57-k"
      },
      "outputs": [
        {
          "name": "stdout",
          "output_type": "stream",
          "text": [
            "\n",
            " Average rating of movie 15153 : 2.675\n"
          ]
        }
      ],
      "source": [
        "sample_train_averages['movie'] =  get_average_ratings(sample_train_sparse_matrix, of_users=False)\n",
        "print('\\n Average rating of movie 15153 :',sample_train_averages['movie'][15153])"
      ]
    },
    {
      "cell_type": "code",
      "execution_count": 39,
      "metadata": {
        "id": "J3-ZA2qX57-k"
      },
      "outputs": [
        {
          "name": "stdout",
          "output_type": "stream",
          "text": [
            "\n",
            " No. of ratings in Our Sampled train matrix is : 131824\n",
            "\n",
            "\n",
            " No. of ratings in Our Sampled test  matrix is : 10549\n",
            "\n"
          ]
        }
      ],
      "source": [
        "print('\\n No. of ratings in Our Sampled train matrix is : {}\\n'.format(sample_train_sparse_matrix.count_nonzero()))\n",
        "print('\\n No. of ratings in Our Sampled test  matrix is : {}\\n'.format(sample_test_sparse_matrix.count_nonzero()))"
      ]
    },
    {
      "cell_type": "markdown",
      "metadata": {
        "id": "bA0aCqkE57-l"
      },
      "source": [
        "### 7 Data preparation for Xgboost and Surprise Models"
      ]
    },
    {
      "cell_type": "markdown",
      "metadata": {
        "id": "gbAM0pcW57-l"
      },
      "source": [
        "##### 7.2 creating training dataset with 13 hand crafted feature which will be used in Xgboost-1"
      ]
    },
    {
      "cell_type": "markdown",
      "metadata": {
        "id": "k9KVC4p1LlDf"
      },
      "source": [
        "\n",
        "\n",
        "1.   GAvg: Average rating of all the movie ratings.\n",
        "2.   UAvg: Average rating of user($u_{i}$). Encodes how critical\n",
        "3.   MAvg: Average rating of movie($m_{j}$). Encodes how popular\n",
        "4.   Similar users rating of this movie($m_{j}$): By using the user-user similarity we will find the list of the users who are similar to the user ($u_{i}$), from this list we will select top 5 user who has watched the movie ($m_{j}$), and the rating given by these selected similar user to movie($m_{j}$) will become our features(sur1, sur2, sur3, sur4, sur5)..\n",
        "5.   Similar movies rated by this user($u_{i}$): By using the movie-movie similarity we will find the list of the similar movies watched by the user ($u_{i}$), from this list, ratings for top 5 similar movies, will become our features(smr1, smr2, smr3, smr4, smr5).\n",
        "\n"
      ]
    },
    {
      "cell_type": "code",
      "execution_count": 41,
      "metadata": {
        "id": "ujuaPFsi57-l"
      },
      "outputs": [],
      "source": [
        "sample_train_users, sample_train_movies, sample_train_ratings = sparse.find(sample_train_sparse_matrix)"
      ]
    },
    {
      "cell_type": "code",
      "execution_count": 42,
      "metadata": {
        "id": "VVRXf87n57-l"
      },
      "outputs": [
        {
          "name": "stdout",
          "output_type": "stream",
          "text": [
            "preparing 131824 tuples for the dataset..\n",
            "\n",
            "Done for 10000 rows----- 0:22:27.137769\n",
            "Done for 20000 rows----- 0:44:42.529832\n",
            "Done for 30000 rows----- 1:07:00.565094\n",
            "Done for 40000 rows----- 1:29:00.678268\n",
            "Done for 50000 rows----- 1:50:58.585291\n",
            "Done for 60000 rows----- 2:12:56.723093\n",
            "Done for 70000 rows----- 2:34:56.577104\n",
            "Done for 80000 rows----- 2:56:53.614664\n",
            "Done for 90000 rows----- 3:18:52.551722\n",
            "Done for 100000 rows----- 3:40:49.973493\n",
            "Done for 110000 rows----- 4:02:47.375974\n",
            "Done for 120000 rows----- 4:24:49.454020\n",
            "Done for 130000 rows----- 4:46:46.826475\n",
            "4:50:47.345434\n"
          ]
        }
      ],
      "source": [
        "start = datetime.now()\n",
        "if os.path.isfile('reg_train.csv'):\n",
        "    print(\"File already exists you don't have to prepare again...\" )\n",
        "else:\n",
        "    print('preparing {} tuples for the dataset..\\n'.format(len(sample_train_ratings)))\n",
        "    with open('reg_train.csv', mode='w') as reg_data_file:\n",
        "        count = 0\n",
        "        for (user, movie, rating)  in zip(sample_train_users, sample_train_movies, sample_train_ratings):\n",
        "            st = datetime.now()\n",
        "            user_sim = cosine_similarity(sample_train_sparse_matrix[user], sample_train_sparse_matrix).ravel()\n",
        "            top_sim_users = user_sim.argsort()[::-1][1:]\n",
        "            top_ratings = sample_train_sparse_matrix[top_sim_users, movie].toarray().ravel()\n",
        "            top_sim_users_ratings = list(top_ratings[top_ratings != 0][:5])\n",
        "            top_sim_users_ratings.extend([sample_train_averages['movie'][movie]]*(5 - len(top_sim_users_ratings)))\n",
        "            movie_sim = cosine_similarity(sample_train_sparse_matrix[:,movie].T, sample_train_sparse_matrix.T).ravel()\n",
        "            top_sim_movies = movie_sim.argsort()[::-1][1:]\n",
        "            top_ratings = sample_train_sparse_matrix[user, top_sim_movies].toarray().ravel()\n",
        "            top_sim_movies_ratings = list(top_ratings[top_ratings != 0][:5])\n",
        "            top_sim_movies_ratings.extend([sample_train_averages['user'][user]]*(5-len(top_sim_movies_ratings)))\n",
        "            row = list()\n",
        "            row.append(user)\n",
        "            row.append(movie)\n",
        "            row.append(sample_train_averages['global'])\n",
        "            row.extend(top_sim_users_ratings)\n",
        "            row.extend(top_sim_movies_ratings)\n",
        "            row.append(sample_train_averages['user'][user])\n",
        "            row.append(sample_train_averages['movie'][movie])\n",
        "            row.append(rating)\n",
        "            count = count + 1\n",
        "            reg_data_file.write(','.join(map(str, row)))\n",
        "            reg_data_file.write('\\n')\n",
        "            if (count)%10000 == 0:\n",
        "                print(\"Done for {} rows----- {}\".format(count, datetime.now() - start))\n",
        "print(datetime.now() - start)"
      ]
    },
    {
      "cell_type": "markdown",
      "metadata": {
        "id": "v1V_Ej8257-m"
      },
      "source": [
        "##### 7.3 Creating panda dataframe for the train dataset Xgboost-1 to diplay the handcrafted 13 features"
      ]
    },
    {
      "cell_type": "code",
      "execution_count": 43,
      "metadata": {
        "id": "m2tagAvi57-m"
      },
      "outputs": [
        {
          "data": {
            "text/html": [
              "<div>\n",
              "<style scoped>\n",
              "    .dataframe tbody tr th:only-of-type {\n",
              "        vertical-align: middle;\n",
              "    }\n",
              "\n",
              "    .dataframe tbody tr th {\n",
              "        vertical-align: top;\n",
              "    }\n",
              "\n",
              "    .dataframe thead th {\n",
              "        text-align: right;\n",
              "    }\n",
              "</style>\n",
              "<table border=\"1\" class=\"dataframe\">\n",
              "  <thead>\n",
              "    <tr style=\"text-align: right;\">\n",
              "      <th></th>\n",
              "      <th>user</th>\n",
              "      <th>movie</th>\n",
              "      <th>GAvg</th>\n",
              "      <th>sur1</th>\n",
              "      <th>sur2</th>\n",
              "      <th>sur3</th>\n",
              "      <th>sur4</th>\n",
              "      <th>sur5</th>\n",
              "      <th>smr1</th>\n",
              "      <th>smr2</th>\n",
              "      <th>smr3</th>\n",
              "      <th>smr4</th>\n",
              "      <th>smr5</th>\n",
              "      <th>UAvg</th>\n",
              "      <th>MAvg</th>\n",
              "      <th>rating</th>\n",
              "    </tr>\n",
              "  </thead>\n",
              "  <tbody>\n",
              "    <tr>\n",
              "      <th>0</th>\n",
              "      <td>692</td>\n",
              "      <td>5317</td>\n",
              "      <td>3.553276</td>\n",
              "      <td>4.0</td>\n",
              "      <td>3.0</td>\n",
              "      <td>4.0</td>\n",
              "      <td>4.0</td>\n",
              "      <td>4.0</td>\n",
              "      <td>4.0</td>\n",
              "      <td>4.0</td>\n",
              "      <td>4.0</td>\n",
              "      <td>4.0</td>\n",
              "      <td>4.0</td>\n",
              "      <td>4.000000</td>\n",
              "      <td>3.392507</td>\n",
              "      <td>4</td>\n",
              "    </tr>\n",
              "    <tr>\n",
              "      <th>1</th>\n",
              "      <td>692</td>\n",
              "      <td>14621</td>\n",
              "      <td>3.553276</td>\n",
              "      <td>5.0</td>\n",
              "      <td>5.0</td>\n",
              "      <td>5.0</td>\n",
              "      <td>5.0</td>\n",
              "      <td>5.0</td>\n",
              "      <td>4.0</td>\n",
              "      <td>4.0</td>\n",
              "      <td>4.0</td>\n",
              "      <td>4.0</td>\n",
              "      <td>4.0</td>\n",
              "      <td>4.000000</td>\n",
              "      <td>4.333477</td>\n",
              "      <td>4</td>\n",
              "    </tr>\n",
              "    <tr>\n",
              "      <th>2</th>\n",
              "      <td>1179</td>\n",
              "      <td>2239</td>\n",
              "      <td>3.553276</td>\n",
              "      <td>5.0</td>\n",
              "      <td>3.0</td>\n",
              "      <td>3.0</td>\n",
              "      <td>2.0</td>\n",
              "      <td>2.0</td>\n",
              "      <td>3.0</td>\n",
              "      <td>5.0</td>\n",
              "      <td>2.0</td>\n",
              "      <td>4.0</td>\n",
              "      <td>3.0</td>\n",
              "      <td>3.526316</td>\n",
              "      <td>2.833333</td>\n",
              "      <td>5</td>\n",
              "    </tr>\n",
              "    <tr>\n",
              "      <th>3</th>\n",
              "      <td>1179</td>\n",
              "      <td>2356</td>\n",
              "      <td>3.553276</td>\n",
              "      <td>3.0</td>\n",
              "      <td>2.0</td>\n",
              "      <td>1.0</td>\n",
              "      <td>4.0</td>\n",
              "      <td>3.0</td>\n",
              "      <td>4.0</td>\n",
              "      <td>3.0</td>\n",
              "      <td>3.0</td>\n",
              "      <td>5.0</td>\n",
              "      <td>4.0</td>\n",
              "      <td>3.526316</td>\n",
              "      <td>2.446429</td>\n",
              "      <td>2</td>\n",
              "    </tr>\n",
              "    <tr>\n",
              "      <th>4</th>\n",
              "      <td>1179</td>\n",
              "      <td>4341</td>\n",
              "      <td>3.553276</td>\n",
              "      <td>5.0</td>\n",
              "      <td>5.0</td>\n",
              "      <td>4.0</td>\n",
              "      <td>3.0</td>\n",
              "      <td>3.0</td>\n",
              "      <td>4.0</td>\n",
              "      <td>3.0</td>\n",
              "      <td>4.0</td>\n",
              "      <td>3.0</td>\n",
              "      <td>5.0</td>\n",
              "      <td>3.526316</td>\n",
              "      <td>3.363817</td>\n",
              "      <td>3</td>\n",
              "    </tr>\n",
              "  </tbody>\n",
              "</table>\n",
              "</div>"
            ],
            "text/plain": [
              "   user  movie      GAvg  sur1  sur2  sur3  sur4  sur5  smr1  smr2  smr3  \\\n",
              "0   692   5317  3.553276   4.0   3.0   4.0   4.0   4.0   4.0   4.0   4.0   \n",
              "1   692  14621  3.553276   5.0   5.0   5.0   5.0   5.0   4.0   4.0   4.0   \n",
              "2  1179   2239  3.553276   5.0   3.0   3.0   2.0   2.0   3.0   5.0   2.0   \n",
              "3  1179   2356  3.553276   3.0   2.0   1.0   4.0   3.0   4.0   3.0   3.0   \n",
              "4  1179   4341  3.553276   5.0   5.0   4.0   3.0   3.0   4.0   3.0   4.0   \n",
              "\n",
              "   smr4  smr5      UAvg      MAvg  rating  \n",
              "0   4.0   4.0  4.000000  3.392507       4  \n",
              "1   4.0   4.0  4.000000  4.333477       4  \n",
              "2   4.0   3.0  3.526316  2.833333       5  \n",
              "3   5.0   4.0  3.526316  2.446429       2  \n",
              "4   3.0   5.0  3.526316  3.363817       3  "
            ]
          },
          "execution_count": 43,
          "metadata": {},
          "output_type": "execute_result"
        }
      ],
      "source": [
        "reg_train = pd.read_csv('reg_train.csv', names = ['user', 'movie', 'GAvg', 'sur1', 'sur2', 'sur3', 'sur4', 'sur5','smr1', 'smr2', 'smr3', 'smr4', 'smr5', 'UAvg', 'MAvg', 'rating'], header=None)\n",
        "reg_train.head()"
      ]
    },
    {
      "cell_type": "markdown",
      "metadata": {
        "id": "YvdGgn4i57-m"
      },
      "source": [
        "##### 7.5 creating test dataset with 13 hand crafted feature which will be used in Xgboost-1 for testing"
      ]
    },
    {
      "cell_type": "code",
      "execution_count": 44,
      "metadata": {
        "id": "QoLhj0mf57-m"
      },
      "outputs": [],
      "source": [
        "sample_test_users, sample_test_movies, sample_test_ratings = sparse.find(sample_test_sparse_matrix)\n"
      ]
    },
    {
      "cell_type": "code",
      "execution_count": 45,
      "metadata": {
        "id": "6dEKCgcx57-n"
      },
      "outputs": [
        {
          "name": "stdout",
          "output_type": "stream",
          "text": [
            "preparing 10549 tuples for the dataset..\n",
            "\n",
            "Done for 1000 rows----- 0:02:15.449793\n",
            "Done for 2000 rows----- 0:04:31.500000\n",
            "Done for 3000 rows----- 0:06:47.536971\n",
            "Done for 4000 rows----- 0:09:03.399883\n",
            "Done for 5000 rows----- 0:11:19.309382\n",
            "Done for 6000 rows----- 0:13:36.618324\n",
            "Done for 7000 rows----- 0:15:53.924289\n",
            "Done for 8000 rows----- 0:18:11.287703\n",
            "Done for 9000 rows----- 0:20:28.636766\n",
            "Done for 10000 rows----- 0:22:45.904056\n",
            " 0:24:01.238719\n"
          ]
        }
      ],
      "source": [
        "start = datetime.now()\n",
        "\n",
        "if os.path.isfile('reg_test.csv'):\n",
        "    print(\"It is already created...\")\n",
        "else:\n",
        "\n",
        "    print('preparing {} tuples for the dataset..\\n'.format(len(sample_test_ratings)))\n",
        "    with open('reg_test.csv', mode='w') as reg_data_file:\n",
        "        count = 0\n",
        "        for (user, movie, rating)  in zip(sample_test_users, sample_test_movies, sample_test_ratings):\n",
        "            st = datetime.now()\n",
        "            try:\n",
        "                user_sim = cosine_similarity(sample_train_sparse_matrix[user], sample_train_sparse_matrix).ravel()\n",
        "                top_sim_users = user_sim.argsort()[::-1][1:]\n",
        "                top_ratings = sample_train_sparse_matrix[top_sim_users, movie].toarray().ravel()\n",
        "                top_sim_users_ratings = list(top_ratings[top_ratings != 0][:5])\n",
        "                top_sim_users_ratings.extend([sample_train_averages['movie'][movie]]*(5 - len(top_sim_users_ratings)))\n",
        "            except (IndexError, KeyError):\n",
        "                top_sim_users_ratings.extend([sample_train_averages['global']]*(5 - len(top_sim_users_ratings)))\n",
        "            except:\n",
        "                print(user, movie)\n",
        "                raise\n",
        "\n",
        "            #--------------------- Ratings by \"user\"  to similar movies of \"movie\" ---------------------\n",
        "            try:\n",
        "                movie_sim = cosine_similarity(sample_train_sparse_matrix[:,movie].T, sample_train_sparse_matrix.T).ravel()\n",
        "                top_sim_movies = movie_sim.argsort()[::-1][1:]\n",
        "                top_ratings = sample_train_sparse_matrix[user, top_sim_movies].toarray().ravel()\n",
        "                top_sim_movies_ratings = list(top_ratings[top_ratings != 0][:5])\n",
        "                top_sim_movies_ratings.extend([sample_train_averages['user'][user]]*(5-len(top_sim_movies_ratings)))\n",
        "            except (IndexError, KeyError):\n",
        "                top_sim_movies_ratings.extend([sample_train_averages['global']]*(5-len(top_sim_movies_ratings)))\n",
        "            except :\n",
        "                raise\n",
        "            row = list()\n",
        "            row.append(user)\n",
        "            row.append(movie)\n",
        "            row.append(sample_train_averages['global'])\n",
        "            row.extend(top_sim_users_ratings)\n",
        "            row.extend(top_sim_movies_ratings)\n",
        "            try:\n",
        "                row.append(sample_train_averages['user'][user])\n",
        "            except KeyError:\n",
        "                row.append(sample_train_averages['global'])\n",
        "            except:\n",
        "                raise\n",
        "            try:\n",
        "                row.append(sample_train_averages['movie'][movie])\n",
        "            except KeyError:\n",
        "                row.append(sample_train_averages['global'])\n",
        "            except:\n",
        "                raise\n",
        "            row.append(rating)\n",
        "            count = count + 1\n",
        "            reg_data_file.write(','.join(map(str, row)))\n",
        "            reg_data_file.write('\\n')\n",
        "            if (count)%1000 == 0:\n",
        "                print(\"Done for {} rows----- {}\".format(count, datetime.now() - start))\n",
        "    print(\"\",datetime.now() - start)"
      ]
    },
    {
      "cell_type": "markdown",
      "metadata": {
        "id": "OUNXI0hB57-n"
      },
      "source": [
        "##### 7.6 Creating panda dataframe for the test dataset for Xgboost-1"
      ]
    },
    {
      "cell_type": "code",
      "execution_count": 46,
      "metadata": {
        "id": "xSlgowbN57-n"
      },
      "outputs": [
        {
          "data": {
            "text/html": [
              "<div>\n",
              "<style scoped>\n",
              "    .dataframe tbody tr th:only-of-type {\n",
              "        vertical-align: middle;\n",
              "    }\n",
              "\n",
              "    .dataframe tbody tr th {\n",
              "        vertical-align: top;\n",
              "    }\n",
              "\n",
              "    .dataframe thead th {\n",
              "        text-align: right;\n",
              "    }\n",
              "</style>\n",
              "<table border=\"1\" class=\"dataframe\">\n",
              "  <thead>\n",
              "    <tr style=\"text-align: right;\">\n",
              "      <th></th>\n",
              "      <th>user</th>\n",
              "      <th>movie</th>\n",
              "      <th>GAvg</th>\n",
              "      <th>sur1</th>\n",
              "      <th>sur2</th>\n",
              "      <th>sur3</th>\n",
              "      <th>sur4</th>\n",
              "      <th>sur5</th>\n",
              "      <th>smr1</th>\n",
              "      <th>smr2</th>\n",
              "      <th>smr3</th>\n",
              "      <th>smr4</th>\n",
              "      <th>smr5</th>\n",
              "      <th>UAvg</th>\n",
              "      <th>MAvg</th>\n",
              "      <th>rating</th>\n",
              "    </tr>\n",
              "  </thead>\n",
              "  <tbody>\n",
              "    <tr>\n",
              "      <th>0</th>\n",
              "      <td>7</td>\n",
              "      <td>13072</td>\n",
              "      <td>3.553276</td>\n",
              "      <td>3.553276</td>\n",
              "      <td>3.553276</td>\n",
              "      <td>3.553276</td>\n",
              "      <td>3.553276</td>\n",
              "      <td>3.553276</td>\n",
              "      <td>3.553276</td>\n",
              "      <td>3.553276</td>\n",
              "      <td>3.553276</td>\n",
              "      <td>3.553276</td>\n",
              "      <td>3.553276</td>\n",
              "      <td>3.553276</td>\n",
              "      <td>3.553276</td>\n",
              "      <td>5</td>\n",
              "    </tr>\n",
              "    <tr>\n",
              "      <th>1</th>\n",
              "      <td>126</td>\n",
              "      <td>2212</td>\n",
              "      <td>3.553276</td>\n",
              "      <td>3.553276</td>\n",
              "      <td>3.553276</td>\n",
              "      <td>3.553276</td>\n",
              "      <td>3.553276</td>\n",
              "      <td>3.553276</td>\n",
              "      <td>3.553276</td>\n",
              "      <td>3.553276</td>\n",
              "      <td>3.553276</td>\n",
              "      <td>3.553276</td>\n",
              "      <td>3.553276</td>\n",
              "      <td>3.553276</td>\n",
              "      <td>3.553276</td>\n",
              "      <td>5</td>\n",
              "    </tr>\n",
              "    <tr>\n",
              "      <th>2</th>\n",
              "      <td>126</td>\n",
              "      <td>3418</td>\n",
              "      <td>3.553276</td>\n",
              "      <td>2.000000</td>\n",
              "      <td>4.000000</td>\n",
              "      <td>3.000000</td>\n",
              "      <td>2.000000</td>\n",
              "      <td>5.000000</td>\n",
              "      <td>3.553276</td>\n",
              "      <td>3.553276</td>\n",
              "      <td>3.553276</td>\n",
              "      <td>3.553276</td>\n",
              "      <td>3.553276</td>\n",
              "      <td>3.553276</td>\n",
              "      <td>3.290323</td>\n",
              "      <td>5</td>\n",
              "    </tr>\n",
              "    <tr>\n",
              "      <th>3</th>\n",
              "      <td>126</td>\n",
              "      <td>13115</td>\n",
              "      <td>3.553276</td>\n",
              "      <td>3.553276</td>\n",
              "      <td>3.553276</td>\n",
              "      <td>3.553276</td>\n",
              "      <td>3.553276</td>\n",
              "      <td>3.553276</td>\n",
              "      <td>3.553276</td>\n",
              "      <td>3.553276</td>\n",
              "      <td>3.553276</td>\n",
              "      <td>3.553276</td>\n",
              "      <td>3.553276</td>\n",
              "      <td>3.553276</td>\n",
              "      <td>3.553276</td>\n",
              "      <td>5</td>\n",
              "    </tr>\n",
              "  </tbody>\n",
              "</table>\n",
              "</div>"
            ],
            "text/plain": [
              "   user  movie      GAvg      sur1      sur2      sur3      sur4      sur5  \\\n",
              "0     7  13072  3.553276  3.553276  3.553276  3.553276  3.553276  3.553276   \n",
              "1   126   2212  3.553276  3.553276  3.553276  3.553276  3.553276  3.553276   \n",
              "2   126   3418  3.553276  2.000000  4.000000  3.000000  2.000000  5.000000   \n",
              "3   126  13115  3.553276  3.553276  3.553276  3.553276  3.553276  3.553276   \n",
              "\n",
              "       smr1      smr2      smr3      smr4      smr5      UAvg      MAvg  \\\n",
              "0  3.553276  3.553276  3.553276  3.553276  3.553276  3.553276  3.553276   \n",
              "1  3.553276  3.553276  3.553276  3.553276  3.553276  3.553276  3.553276   \n",
              "2  3.553276  3.553276  3.553276  3.553276  3.553276  3.553276  3.290323   \n",
              "3  3.553276  3.553276  3.553276  3.553276  3.553276  3.553276  3.553276   \n",
              "\n",
              "   rating  \n",
              "0       5  \n",
              "1       5  \n",
              "2       5  \n",
              "3       5  "
            ]
          },
          "execution_count": 46,
          "metadata": {},
          "output_type": "execute_result"
        }
      ],
      "source": [
        "reg_test_df = pd.read_csv('reg_test.csv', names = ['user', 'movie', 'GAvg', 'sur1', 'sur2', 'sur3', 'sur4', 'sur5',\n",
        "                                                          'smr1', 'smr2', 'smr3', 'smr4', 'smr5',\n",
        "                                                          'UAvg', 'MAvg', 'rating'], header=None)\n",
        "reg_test_df.head(4)"
      ]
    },
    {
      "cell_type": "markdown",
      "metadata": {
        "id": "vTAra_Bx57-o"
      },
      "source": [
        "### 8. Convertion of dataset in which surprise Library works"
      ]
    },
    {
      "cell_type": "markdown",
      "metadata": {
        "id": "ypEpTlErj2GX"
      },
      "source": [
        "* From train sampled sparse matrix we are creating data in user, movie and rating format specified by the surprise library, for the conversion we are using Dataset.load_from_df method provied by surprise library"
      ]
    },
    {
      "cell_type": "code",
      "execution_count": 47,
      "metadata": {
        "id": "P1P4AzAR57-o"
      },
      "outputs": [],
      "source": [
        "from surprise import Reader, Dataset"
      ]
    },
    {
      "cell_type": "code",
      "execution_count": 48,
      "metadata": {
        "id": "4v78jwPF57-o"
      },
      "outputs": [],
      "source": [
        "reader = Reader(rating_scale=(1,5))\n",
        "train_data = Dataset.load_from_df(reg_train[['user', 'movie', 'rating']], reader)\n",
        "trainset = train_data.build_full_trainset()"
      ]
    },
    {
      "cell_type": "code",
      "execution_count": 49,
      "metadata": {
        "id": "_N9sgZnD57-o",
        "outputId": "3128f9ae-ce7b-4848-d965-201d27d410ef"
      },
      "outputs": [
        {
          "data": {
            "text/plain": [
              "[(7, 13072, 5), (126, 2212, 5), (126, 3418, 5)]"
            ]
          },
          "execution_count": 49,
          "metadata": {},
          "output_type": "execute_result"
        }
      ],
      "source": [
        "testset = list(zip(reg_test_df.user.values, reg_test_df.movie.values, reg_test_df.rating.values))\n",
        "testset[:3]"
      ]
    },
    {
      "cell_type": "code",
      "execution_count": 50,
      "metadata": {
        "id": "HpOuOPda57-o",
        "outputId": "dda8022c-1576-4c5a-f810-5fd31e94c71e"
      },
      "outputs": [
        {
          "data": {
            "text/plain": [
              "({}, {})"
            ]
          },
          "execution_count": 50,
          "metadata": {},
          "output_type": "execute_result"
        }
      ],
      "source": [
        "models_evaluation_train = dict()\n",
        "models_evaluation_test = dict()\n",
        "\n",
        "models_evaluation_train, models_evaluation_test"
      ]
    },
    {
      "cell_type": "markdown",
      "metadata": {
        "id": "bOtNCWBO57-p"
      },
      "source": [
        "### 9. Creating Xgboost model"
      ]
    },
    {
      "cell_type": "code",
      "execution_count": 51,
      "metadata": {
        "id": "jTMaqdnR57-p"
      },
      "outputs": [],
      "source": [
        "def get_error_metrics(y_true, y_pred):\n",
        "    rmse = np.sqrt(np.mean([ (y_true[i] - y_pred[i])**2 for i in range(len(y_pred)) ]))\n",
        "    mape = np.mean(np.abs( (y_true - y_pred)/y_true )) * 100\n",
        "    return rmse, mape\n",
        "\n",
        "def run_xgboost(algo,  x_train, y_train, x_test, y_test, verbose=True):\n",
        "    train_results = dict()\n",
        "    test_results = dict()\n",
        "    print('Training the model..')\n",
        "    start =datetime.now()\n",
        "    algo.fit(x_train, y_train, eval_metric = 'rmse')\n",
        "    print('Done. Time taken : {}\\n'.format(datetime.now()-start))\n",
        "    print('Done \\n')\n",
        "    print('Evaluating the model with TRAIN data...')\n",
        "    start =datetime.now()\n",
        "    y_train_pred = algo.predict(x_train)\n",
        "    rmse_train, mape_train = get_error_metrics(y_train.values, y_train_pred)\n",
        "    train_results = {'rmse': rmse_train,\n",
        "                    'mape' : mape_train,\n",
        "                    'predictions' : y_train_pred}\n",
        "    print('Evaluating Test data')\n",
        "    y_test_pred = algo.predict(x_test)\n",
        "    rmse_test, mape_test = get_error_metrics(y_true=y_test.values, y_pred=y_test_pred)\n",
        "    test_results = {'rmse': rmse_test,\n",
        "                    'mape' : mape_test,\n",
        "                    'predictions':y_test_pred}\n",
        "    if verbose:\n",
        "        print('\\nTEST DATA')\n",
        "        print('-'*30)\n",
        "        print('RMSE : ', rmse_test)\n",
        "        print('MAPE : ', mape_test)\n",
        "    return train_results, test_results\n"
      ]
    },
    {
      "cell_type": "code",
      "execution_count": 52,
      "metadata": {
        "id": "Y3L3a8Ux57-p"
      },
      "outputs": [],
      "source": [
        "my_seed = 15\n",
        "random.seed(my_seed)\n",
        "np.random.seed(my_seed)\n",
        "\n",
        "def get_ratings(predictions):\n",
        "    actual = np.array([pred.r_ui for pred in predictions])\n",
        "    pred = np.array([pred.est for pred in predictions])\n",
        "\n",
        "    return actual, pred\n",
        "\n",
        "def get_errors(predictions, print_them=False):\n",
        "\n",
        "    actual, pred = get_ratings(predictions)\n",
        "    rmse = np.sqrt(np.mean((pred - actual)**2))\n",
        "    mape = np.mean(np.abs(pred - actual)/actual)\n",
        "\n",
        "    return rmse, mape*100\n",
        "\n",
        "def run_surprise(algo, trainset, testset, verbose=True):\n",
        "    '''\n",
        "        return train_dict, test_dict\n",
        "\n",
        "        It returns two dictionaries, one for train and the other is for test\n",
        "        Each of them have 3 key-value pairs, which specify ''rmse'', ''mape'', and ''predicted ratings''.\n",
        "    '''\n",
        "    start = datetime.now()\n",
        "    train = dict()\n",
        "    test = dict()\n",
        "\n",
        "    st = datetime.now()\n",
        "    print('Training the model...')\n",
        "    algo.fit(trainset)\n",
        "    print('Done. time taken : {} \\n'.format(datetime.now()-st))\n",
        "\n",
        "    st = datetime.now()\n",
        "    print('Evaluating the model with train data..')\n",
        "    train_preds = algo.test(trainset.build_testset())\n",
        "    train_actual_ratings, train_pred_ratings = get_ratings(train_preds)\n",
        "    train_rmse, train_mape = get_errors(train_preds)\n",
        "    print('time taken : {}'.format(datetime.now()-st))\n",
        "\n",
        "    if verbose:\n",
        "        print('-'*15)\n",
        "        print('Train Data')\n",
        "        print('-'*15)\n",
        "        print(\"RMSE : {}\\n\\nMAPE : {}\\n\".format(train_rmse, train_mape))\n",
        "\n",
        "    if verbose:\n",
        "        print('adding train results in the dictionary..')\n",
        "    train['rmse'] = train_rmse\n",
        "    train['mape'] = train_mape\n",
        "    train['predictions'] = train_pred_ratings\n",
        "\n",
        "    st = datetime.now()\n",
        "    print('\\nEvaluating for test data...')\n",
        "    test_preds = algo.test(testset)\n",
        "    test_actual_ratings, test_pred_ratings = get_ratings(test_preds)\n",
        "    test_rmse, test_mape = get_errors(test_preds)\n",
        "    print('time taken : {}'.format(datetime.now()-st))\n",
        "\n",
        "    if verbose:\n",
        "        print('-'*15)\n",
        "        print('Test Data')\n",
        "        print('-'*15)\n",
        "        print(\"RMSE : {}\\n\\nMAPE : {}\\n\".format(test_rmse, test_mape))\n",
        "    if verbose:\n",
        "        print('storing the test results in test dictionary...')\n",
        "    test['rmse'] = test_rmse\n",
        "    test['mape'] = test_mape\n",
        "    test['predictions'] = test_pred_ratings\n",
        "\n",
        "    print('\\n'+'-'*45)\n",
        "    print('Total time taken to run this algorithm :', datetime.now() - start)\n",
        "    return train, test"
      ]
    },
    {
      "cell_type": "code",
      "execution_count": 53,
      "metadata": {
        "id": "-KAzX87f57-q"
      },
      "outputs": [
        {
          "ename": "ModuleNotFoundError",
          "evalue": "No module named 'xgboost'",
          "output_type": "error",
          "traceback": [
            "\u001b[0;31m---------------------------------------------------------------------------\u001b[0m",
            "\u001b[0;31mModuleNotFoundError\u001b[0m                       Traceback (most recent call last)",
            "Cell \u001b[0;32mIn[53], line 1\u001b[0m\n\u001b[0;32m----> 1\u001b[0m \u001b[38;5;28;01mimport\u001b[39;00m \u001b[38;5;21;01mxgboost\u001b[39;00m \u001b[38;5;28;01mas\u001b[39;00m \u001b[38;5;21;01mxgb\u001b[39;00m\n",
            "\u001b[0;31mModuleNotFoundError\u001b[0m: No module named 'xgboost'"
          ]
        }
      ],
      "source": [
        "import xgboost as xgb"
      ]
    },
    {
      "cell_type": "markdown",
      "metadata": {
        "id": "ZM4Hk0XW57-q"
      },
      "source": [
        "### 10. XgBoost-13 with 13 Features"
      ]
    },
    {
      "cell_type": "code",
      "execution_count": null,
      "metadata": {
        "id": "SlrmjLlr57-q",
        "outputId": "e34eff4f-98aa-45e0-c4cf-3668af58c530"
      },
      "outputs": [
        {
          "name": "stdout",
          "output_type": "stream",
          "text": [
            "Training the model..\n",
            "[23:30:33] WARNING: ../src/learner.cc:767: \n",
            "Parameters: { \"silent\" } are not used.\n",
            "\n"
          ]
        },
        {
          "name": "stderr",
          "output_type": "stream",
          "text": [
            "/home/shantanu/miniconda3/envs/sarvesh/lib/python3.11/site-packages/xgboost/sklearn.py:835: UserWarning: `eval_metric` in `fit` method is deprecated for better compatibility with scikit-learn, use `eval_metric` in constructor or`set_params` instead.\n",
            "  warnings.warn(\n"
          ]
        },
        {
          "name": "stdout",
          "output_type": "stream",
          "text": [
            "Done. Time taken : 0:00:01.367501\n",
            "\n",
            "Done \n",
            "\n",
            "Evaluating the model with TRAIN data...\n",
            "Evaluating Test data\n",
            "\n",
            "TEST DATA\n",
            "------------------------------\n",
            "RMSE :  1.1469005696747614\n",
            "MAPE :  32.19581707015769\n"
          ]
        },
        {
          "data": {
            "image/png": "[encoded data removed]",
            "text/plain": [
              "<Figure size 640x480 with 1 Axes>"
            ]
          },
          "metadata": {},
          "output_type": "display_data"
        }
      ],
      "source": [
        "# prepare Train data\n",
        "x_train = reg_train.drop(['user','movie','rating'], axis=1)\n",
        "y_train = reg_train['rating']\n",
        "\n",
        "# Prepare Test data\n",
        "x_test = reg_test_df.drop(['user','movie','rating'], axis=1)\n",
        "y_test = reg_test_df['rating']\n",
        "\n",
        "first_xgb = xgb.XGBRegressor(silent=False, n_jobs=13, random_state=15, n_estimators=100)\n",
        "train_results, test_results = run_xgboost(first_xgb, x_train, y_train, x_test, y_test)\n",
        "\n",
        "models_evaluation_train['first_algo'] = train_results\n",
        "models_evaluation_test['first_algo'] = test_results\n",
        "\n",
        "xgb.plot_importance(first_xgb)\n",
        "plt.show()"
      ]
    },
    {
      "cell_type": "markdown",
      "metadata": {
        "id": "ToJ5XkgM57-r"
      },
      "source": [
        "### 11. Surprise- BaseLine"
      ]
    },
    {
      "cell_type": "markdown",
      "metadata": {
        "id": "ICYy3vXfk9ty"
      },
      "source": [
        "In Surprise, the baseline model is a simple model that predicts the rating for each item and user. The predicted rating for a given user-item pair is calculated as follows:\n",
        "\\begin{align}\n",
        "    \\large {\\hat{r}_{ui} = b_{ui} =\\mu + b_u + b_i}\n",
        "\\end{align}\n",
        "where,\n",
        "\n",
        "\n",
        "-$\\mu $ : Average of all trainings in training data.\\\n",
        "-$b_u$ : User bias\\\n",
        "-$b_i$ : Item bias (movie biases)\n"
      ]
    },
    {
      "cell_type": "markdown",
      "metadata": {
        "id": "zSvi0HVDmAlK"
      },
      "source": [
        "Surprise provides a 'BaselineOnly' class that implements this baseline model. We have created an instance of 'BaselineOnly' and fit it to our data using the fit() method. It use the MSE loss with L2 regulariser as the optimizing function. The expression for the same is given by-\n",
        "\\begin{align}\n",
        "    \\arg \\min_{\\textbf{b_u, b_i}} \\sum_{r_{ui} \\in R_{train}} (\\left(r_{ui} - (\\mu + b_u + b_i)\\right)^2 +\n",
        "\\lambda \\left(b_u^2 + b_i^2 \\right)).\n",
        "\\end{align}"
      ]
    },
    {
      "cell_type": "code",
      "execution_count": null,
      "metadata": {
        "id": "wBVrb16M57-r"
      },
      "outputs": [],
      "source": [
        "from surprise import BaselineOnly"
      ]
    },
    {
      "cell_type": "code",
      "execution_count": null,
      "metadata": {
        "id": "zHyPyRTI57-r",
        "outputId": "3ab51d81-e14c-4a20-bd03-e76d61058496"
      },
      "outputs": [
        {
          "name": "stdout",
          "output_type": "stream",
          "text": [
            "Training the model...\n",
            "Estimating biases using sgd...\n",
            "Done. time taken : 0:00:00.657626 \n",
            "\n",
            "Evaluating the model with train data..\n",
            "time taken : 0:00:00.476155\n",
            "---------------\n",
            "Train Data\n",
            "---------------\n",
            "RMSE : 0.9352501242493785\n",
            "\n",
            "MAPE : 29.621523191097044\n",
            "\n",
            "adding train results in the dictionary..\n",
            "\n",
            "Evaluating for test data...\n",
            "time taken : 0:00:00.058623\n",
            "---------------\n",
            "Test Data\n",
            "---------------\n",
            "RMSE : 1.0697024551739118\n",
            "\n",
            "MAPE : 34.73596050802977\n",
            "\n",
            "storing the test results in test dictionary...\n",
            "\n",
            "---------------------------------------------\n",
            "Total time taken to run this algorithm : 0:00:01.192652\n"
          ]
        }
      ],
      "source": [
        "bsl_options = {'method': 'sgd',\n",
        "               'learning_rate': .001\n",
        "               }\n",
        "bsl_algo = BaselineOnly(bsl_options=bsl_options)\n",
        "bsl_train_results, bsl_test_results = run_surprise(bsl_algo, trainset, testset, verbose=True)\n",
        "\n",
        "models_evaluation_train['bsl_algo'] = bsl_train_results\n",
        "models_evaluation_test['bsl_algo'] = bsl_test_results"
      ]
    },
    {
      "cell_type": "code",
      "execution_count": null,
      "metadata": {
        "id": "upxUPkDW57-r",
        "outputId": "ec2aaf82-0bb3-43e9-aaae-ea5f45ca8032"
      },
      "outputs": [
        {
          "data": {
            "text/html": [
              "<div>\n",
              "<style scoped>\n",
              "    .dataframe tbody tr th:only-of-type {\n",
              "        vertical-align: middle;\n",
              "    }\n",
              "\n",
              "    .dataframe tbody tr th {\n",
              "        vertical-align: top;\n",
              "    }\n",
              "\n",
              "    .dataframe thead th {\n",
              "        text-align: right;\n",
              "    }\n",
              "</style>\n",
              "<table border=\"1\" class=\"dataframe\">\n",
              "  <thead>\n",
              "    <tr style=\"text-align: right;\">\n",
              "      <th></th>\n",
              "      <th>user</th>\n",
              "      <th>movie</th>\n",
              "      <th>GAvg</th>\n",
              "      <th>sur1</th>\n",
              "      <th>sur2</th>\n",
              "      <th>sur3</th>\n",
              "      <th>sur4</th>\n",
              "      <th>sur5</th>\n",
              "      <th>smr1</th>\n",
              "      <th>smr2</th>\n",
              "      <th>smr3</th>\n",
              "      <th>smr4</th>\n",
              "      <th>smr5</th>\n",
              "      <th>UAvg</th>\n",
              "      <th>MAvg</th>\n",
              "      <th>rating</th>\n",
              "      <th>bslpr</th>\n",
              "    </tr>\n",
              "  </thead>\n",
              "  <tbody>\n",
              "    <tr>\n",
              "      <th>0</th>\n",
              "      <td>53406</td>\n",
              "      <td>33</td>\n",
              "      <td>3.553276</td>\n",
              "      <td>4.0</td>\n",
              "      <td>5.0</td>\n",
              "      <td>1.0</td>\n",
              "      <td>5.0</td>\n",
              "      <td>3.0</td>\n",
              "      <td>5.0</td>\n",
              "      <td>2.0</td>\n",
              "      <td>5.0</td>\n",
              "      <td>3.0</td>\n",
              "      <td>3.0</td>\n",
              "      <td>3.366667</td>\n",
              "      <td>4.066667</td>\n",
              "      <td>4</td>\n",
              "      <td>3.850205</td>\n",
              "    </tr>\n",
              "    <tr>\n",
              "      <th>1</th>\n",
              "      <td>99865</td>\n",
              "      <td>33</td>\n",
              "      <td>3.553276</td>\n",
              "      <td>5.0</td>\n",
              "      <td>5.0</td>\n",
              "      <td>4.0</td>\n",
              "      <td>4.0</td>\n",
              "      <td>5.0</td>\n",
              "      <td>5.0</td>\n",
              "      <td>4.0</td>\n",
              "      <td>5.0</td>\n",
              "      <td>4.0</td>\n",
              "      <td>5.0</td>\n",
              "      <td>3.639344</td>\n",
              "      <td>4.066667</td>\n",
              "      <td>5</td>\n",
              "      <td>3.329564</td>\n",
              "    </tr>\n",
              "  </tbody>\n",
              "</table>\n",
              "</div>"
            ],
            "text/plain": [
              "    user  movie      GAvg  sur1  sur2  sur3  sur4  sur5  smr1  smr2  smr3   \n",
              "0  53406     33  3.553276   4.0   5.0   1.0   5.0   3.0   5.0   2.0   5.0  \\\n",
              "1  99865     33  3.553276   5.0   5.0   4.0   4.0   5.0   5.0   4.0   5.0   \n",
              "\n",
              "   smr4  smr5      UAvg      MAvg  rating     bslpr  \n",
              "0   3.0   3.0  3.366667  4.066667       4  3.850205  \n",
              "1   4.0   5.0  3.639344  4.066667       5  3.329564  "
            ]
          },
          "execution_count": 70,
          "metadata": {},
          "output_type": "execute_result"
        }
      ],
      "source": [
        "reg_train['bslpr'] = models_evaluation_train['bsl_algo']['predictions']\n",
        "reg_train.head(2)"
      ]
    },
    {
      "cell_type": "code",
      "execution_count": null,
      "metadata": {
        "id": "sm-YS1Eo57-r",
        "outputId": "81e0a5d3-ab05-4b4d-e89b-6a47c9edb055"
      },
      "outputs": [
        {
          "data": {
            "text/html": [
              "<div>\n",
              "<style scoped>\n",
              "    .dataframe tbody tr th:only-of-type {\n",
              "        vertical-align: middle;\n",
              "    }\n",
              "\n",
              "    .dataframe tbody tr th {\n",
              "        vertical-align: top;\n",
              "    }\n",
              "\n",
              "    .dataframe thead th {\n",
              "        text-align: right;\n",
              "    }\n",
              "</style>\n",
              "<table border=\"1\" class=\"dataframe\">\n",
              "  <thead>\n",
              "    <tr style=\"text-align: right;\">\n",
              "      <th></th>\n",
              "      <th>user</th>\n",
              "      <th>movie</th>\n",
              "      <th>GAvg</th>\n",
              "      <th>sur1</th>\n",
              "      <th>sur2</th>\n",
              "      <th>sur3</th>\n",
              "      <th>sur4</th>\n",
              "      <th>sur5</th>\n",
              "      <th>smr1</th>\n",
              "      <th>smr2</th>\n",
              "      <th>smr3</th>\n",
              "      <th>smr4</th>\n",
              "      <th>smr5</th>\n",
              "      <th>UAvg</th>\n",
              "      <th>MAvg</th>\n",
              "      <th>rating</th>\n",
              "      <th>bslpr</th>\n",
              "    </tr>\n",
              "  </thead>\n",
              "  <tbody>\n",
              "    <tr>\n",
              "      <th>0</th>\n",
              "      <td>808635</td>\n",
              "      <td>71</td>\n",
              "      <td>3.553276</td>\n",
              "      <td>3.553276</td>\n",
              "      <td>3.553276</td>\n",
              "      <td>3.553276</td>\n",
              "      <td>3.553276</td>\n",
              "      <td>3.553276</td>\n",
              "      <td>3.553276</td>\n",
              "      <td>3.553276</td>\n",
              "      <td>3.553276</td>\n",
              "      <td>3.553276</td>\n",
              "      <td>3.553276</td>\n",
              "      <td>3.553276</td>\n",
              "      <td>3.553276</td>\n",
              "      <td>5</td>\n",
              "      <td>3.553276</td>\n",
              "    </tr>\n",
              "    <tr>\n",
              "      <th>1</th>\n",
              "      <td>941866</td>\n",
              "      <td>71</td>\n",
              "      <td>3.553276</td>\n",
              "      <td>3.553276</td>\n",
              "      <td>3.553276</td>\n",
              "      <td>3.553276</td>\n",
              "      <td>3.553276</td>\n",
              "      <td>3.553276</td>\n",
              "      <td>3.553276</td>\n",
              "      <td>3.553276</td>\n",
              "      <td>3.553276</td>\n",
              "      <td>3.553276</td>\n",
              "      <td>3.553276</td>\n",
              "      <td>3.553276</td>\n",
              "      <td>3.553276</td>\n",
              "      <td>4</td>\n",
              "      <td>3.553276</td>\n",
              "    </tr>\n",
              "  </tbody>\n",
              "</table>\n",
              "</div>"
            ],
            "text/plain": [
              "     user  movie      GAvg      sur1      sur2      sur3      sur4      sur5   \n",
              "0  808635     71  3.553276  3.553276  3.553276  3.553276  3.553276  3.553276  \\\n",
              "1  941866     71  3.553276  3.553276  3.553276  3.553276  3.553276  3.553276   \n",
              "\n",
              "       smr1      smr2      smr3      smr4      smr5      UAvg      MAvg   \n",
              "0  3.553276  3.553276  3.553276  3.553276  3.553276  3.553276  3.553276  \\\n",
              "1  3.553276  3.553276  3.553276  3.553276  3.553276  3.553276  3.553276   \n",
              "\n",
              "   rating     bslpr  \n",
              "0       5  3.553276  \n",
              "1       4  3.553276  "
            ]
          },
          "execution_count": 71,
          "metadata": {},
          "output_type": "execute_result"
        }
      ],
      "source": [
        "reg_test_df['bslpr']  = models_evaluation_test['bsl_algo']['predictions']\n",
        "reg_test_df.head(2)"
      ]
    },
    {
      "cell_type": "markdown",
      "metadata": {
        "id": "K8OeuStLm9TO"
      },
      "source": [
        "### 11. XgBoost-14 with 14 Features (13 handcrafted and output of baseline model)"
      ]
    },
    {
      "cell_type": "code",
      "execution_count": null,
      "metadata": {
        "id": "-WA8oPum57-s",
        "outputId": "3c99848d-7f4f-4706-9277-6a2bf76ea11e"
      },
      "outputs": [
        {
          "name": "stdout",
          "output_type": "stream",
          "text": [
            "Training the model..\n",
            "[23:30:37] WARNING: ../src/learner.cc:767: \n",
            "Parameters: { \"silent\" } are not used.\n",
            "\n"
          ]
        },
        {
          "name": "stderr",
          "output_type": "stream",
          "text": [
            "/home/shantanu/miniconda3/envs/sarvesh/lib/python3.11/site-packages/xgboost/sklearn.py:835: UserWarning: `eval_metric` in `fit` method is deprecated for better compatibility with scikit-learn, use `eval_metric` in constructor or`set_params` instead.\n",
            "  warnings.warn(\n"
          ]
        },
        {
          "name": "stdout",
          "output_type": "stream",
          "text": [
            "Done. Time taken : 0:00:03.134396\n",
            "\n",
            "Done \n",
            "\n",
            "Evaluating the model with TRAIN data...\n",
            "Evaluating Test data\n",
            "\n",
            "TEST DATA\n",
            "------------------------------\n",
            "RMSE :  1.122584002182969\n",
            "MAPE :  32.592387852836154\n"
          ]
        },
        {
          "data": {
            "image/png": "[encoded data removed]",
            "text/plain": [
              "<Figure size 640x480 with 1 Axes>"
            ]
          },
          "metadata": {},
          "output_type": "display_data"
        }
      ],
      "source": [
        "# prepare train data\n",
        "x_train = reg_train.drop(['user', 'movie','rating'], axis=1)\n",
        "y_train = reg_train['rating']\n",
        "\n",
        "# Prepare Test data\n",
        "x_test = reg_test_df.drop(['user','movie','rating'], axis=1)\n",
        "y_test = reg_test_df['rating']\n",
        "\n",
        "xgb_bsl = xgb.XGBRegressor(silent=False, n_jobs=13, random_state=15, n_estimators=100)\n",
        "train_results, test_results = run_xgboost(xgb_bsl, x_train, y_train, x_test, y_test)\n",
        "\n",
        "models_evaluation_train['xgb_bsl'] = train_results\n",
        "models_evaluation_test['xgb_bsl'] = test_results\n",
        "\n",
        "xgb.plot_importance(xgb_bsl)\n",
        "plt.show()\n"
      ]
    },
    {
      "cell_type": "markdown",
      "metadata": {
        "id": "AKiuTg7S57-s"
      },
      "source": [
        "### 12. Surprise KNN"
      ]
    },
    {
      "cell_type": "markdown",
      "metadata": {
        "id": "DBMWRVSenpBs"
      },
      "source": [
        "Surprise KNN Model using user-user similarity While creating handcrafted features (sur1, sur2, sur3, sur4, sur5) we have only focused on 5 similar(nearest) users. Thinking on similar lines, Surprise library has this awesome implementation of looking at K nearest neighbours(users), the KNN model, to predict the ratings. The expression for the same is given by -\n",
        "\\begin{align} \\bar{r}_{ui} = b_{ui} + \\frac{ \\sum\\limits_{v \\in N^k_i(u)}\n",
        "\\text{sim}(u, v) \\cdot (r_{vi} - b_{vi})} {\\sum\\limits_{v \\in\n",
        "N^k_i(u)} \\text{sim}(u, v)} \\end{align}\n",
        "where,\n",
        "    \n",
        "-$b_{ui}$: Baseline prediction of (user,movie) rating \\\n",
        "-$\\pmb{N_i^k (u)}$: Set of K similar users (neighbours) of user $u_{i}$ who rated movie $m_{j}$  \\\n",
        "-$\\pmb{sim (u, v)}$: Similarity between users u and v Generally, cosine similarity or Pearson correlation coefficient is used. But Surprise uses shrunk Pearson-baseline correlation coefficient, which is based on the pearson Baseline similarity.\n",
        "\n",
        "* same way we wll also use the output of Surprise KNN Model using movie-movie similarity\n",
        "\\begin{align}\n",
        "    \\hat{r}_{ui} = b_{ui} + \\frac{ \\sum\\limits_{j \\in N^k_u(i)}\\text{sim}(i, j) \\cdot (r_{uj} - b_{uj})} {\\sum\\limits_{j \\in N^k_u(j)} \\text{sim}(i, j)}\n",
        "\\end{align}\n",
        "\n",
        "where,\n",
        "    \n",
        "-$b_{ui}$: Baseline prediction of (user,movie) rating \\\n",
        "-$\\pmb{N_u^k (i)}$: Set of K similar movies (neighbours) of user $u_{i}$ who rated movie $m_{j}$  \\\n",
        "-$\\pmb{sim (i, j)}$: Similarity between movies i and j Generally, cosine similarity or Pearson correlation coefficient is used. But Surprise uses shrunk Pearson-baseline correlation coefficient, which is based on the pearson Baseline similarity.   "
      ]
    },
    {
      "cell_type": "code",
      "execution_count": null,
      "metadata": {
        "id": "t1FBBal257-s"
      },
      "outputs": [],
      "source": [
        "from surprise import KNNBaseline"
      ]
    },
    {
      "cell_type": "code",
      "execution_count": null,
      "metadata": {
        "id": "Q8CyA9Ze57-s",
        "outputId": "79c6837a-d77f-4fd2-ca04-d2e889e1669e"
      },
      "outputs": [
        {
          "name": "stdout",
          "output_type": "stream",
          "text": [
            "Training the model...\n",
            "Estimating biases using sgd...\n",
            "Computing the pearson_baseline similarity matrix...\n",
            "Done computing similarity matrix.\n",
            "Done. time taken : 0:00:07.423937 \n",
            "\n",
            "Evaluating the model with train data..\n",
            "time taken : 0:00:49.668558\n",
            "---------------\n",
            "Train Data\n",
            "---------------\n",
            "RMSE : 0.34910729348179903\n",
            "\n",
            "MAPE : 9.583925071791903\n",
            "\n",
            "adding train results in the dictionary..\n",
            "\n",
            "Evaluating for test data...\n",
            "time taken : 0:00:00.072268\n",
            "---------------\n",
            "Test Data\n",
            "---------------\n",
            "RMSE : 1.0697479937154935\n",
            "\n",
            "MAPE : 34.781087228133536\n",
            "\n",
            "storing the test results in test dictionary...\n",
            "\n",
            "---------------------------------------------\n",
            "Total time taken to run this algorithm : 0:00:57.164934\n"
          ]
        }
      ],
      "source": [
        "sim_options = {'user_based' : True,\n",
        "               'name': 'pearson_baseline',\n",
        "               'shrinkage': 100,\n",
        "               'min_support': 2\n",
        "              }\n",
        "bsl_options = {'method': 'sgd'}\n",
        "\n",
        "knn_bsl_u = KNNBaseline(k=40, sim_options = sim_options, bsl_options = bsl_options)\n",
        "knn_bsl_u_train_results, knn_bsl_u_test_results = run_surprise(knn_bsl_u, trainset, testset, verbose=True)\n",
        "\n",
        "models_evaluation_train['knn_bsl_u'] = knn_bsl_u_train_results\n",
        "models_evaluation_test['knn_bsl_u'] = knn_bsl_u_test_results\n"
      ]
    },
    {
      "cell_type": "code",
      "execution_count": null,
      "metadata": {
        "id": "9MpqXRv857-t",
        "outputId": "371b2dba-2814-4ab0-e91a-0a5c3b06e114"
      },
      "outputs": [
        {
          "name": "stdout",
          "output_type": "stream",
          "text": [
            "Training the model...\n",
            "Estimating biases using sgd...\n",
            "Computing the pearson_baseline similarity matrix...\n",
            "Done computing similarity matrix.\n",
            "Done. time taken : 0:00:00.741675 \n",
            "\n",
            "Evaluating the model with train data..\n",
            "time taken : 0:00:05.493469\n",
            "---------------\n",
            "Train Data\n",
            "---------------\n",
            "RMSE : 0.3476982696336578\n",
            "\n",
            "MAPE : 9.162601873893975\n",
            "\n",
            "adding train results in the dictionary..\n",
            "\n",
            "Evaluating for test data...\n",
            "time taken : 0:00:00.063738\n",
            "---------------\n",
            "Test Data\n",
            "---------------\n",
            "RMSE : 1.0698742035453888\n",
            "\n",
            "MAPE : 34.78044266886377\n",
            "\n",
            "storing the test results in test dictionary...\n",
            "\n",
            "---------------------------------------------\n",
            "Total time taken to run this algorithm : 0:00:06.299061\n"
          ]
        }
      ],
      "source": [
        "sim_options = {'user_based' : False,\n",
        "               'name': 'pearson_baseline',\n",
        "               'shrinkage': 100,\n",
        "               'min_support': 2\n",
        "              }\n",
        "bsl_options = {'method': 'sgd'}\n",
        "\n",
        "\n",
        "knn_bsl_m = KNNBaseline(k=40, sim_options = sim_options, bsl_options = bsl_options)\n",
        "\n",
        "knn_bsl_m_train_results, knn_bsl_m_test_results = run_surprise(knn_bsl_m, trainset, testset, verbose=True)\n",
        "\n",
        "models_evaluation_train['knn_bsl_m'] = knn_bsl_m_train_results\n",
        "models_evaluation_test['knn_bsl_m'] = knn_bsl_m_test_results\n"
      ]
    },
    {
      "cell_type": "code",
      "execution_count": null,
      "metadata": {
        "id": "ty0ELABG57-t",
        "outputId": "3fcfb3a4-613d-42bc-aec4-96600601de3a"
      },
      "outputs": [
        {
          "data": {
            "text/html": [
              "<div>\n",
              "<style scoped>\n",
              "    .dataframe tbody tr th:only-of-type {\n",
              "        vertical-align: middle;\n",
              "    }\n",
              "\n",
              "    .dataframe tbody tr th {\n",
              "        vertical-align: top;\n",
              "    }\n",
              "\n",
              "    .dataframe thead th {\n",
              "        text-align: right;\n",
              "    }\n",
              "</style>\n",
              "<table border=\"1\" class=\"dataframe\">\n",
              "  <thead>\n",
              "    <tr style=\"text-align: right;\">\n",
              "      <th></th>\n",
              "      <th>user</th>\n",
              "      <th>movie</th>\n",
              "      <th>GAvg</th>\n",
              "      <th>sur1</th>\n",
              "      <th>sur2</th>\n",
              "      <th>sur3</th>\n",
              "      <th>sur4</th>\n",
              "      <th>sur5</th>\n",
              "      <th>smr1</th>\n",
              "      <th>smr2</th>\n",
              "      <th>smr3</th>\n",
              "      <th>smr4</th>\n",
              "      <th>smr5</th>\n",
              "      <th>UAvg</th>\n",
              "      <th>MAvg</th>\n",
              "      <th>rating</th>\n",
              "      <th>bslpr</th>\n",
              "      <th>knn_bsl_u</th>\n",
              "      <th>knn_bsl_m</th>\n",
              "    </tr>\n",
              "  </thead>\n",
              "  <tbody>\n",
              "    <tr>\n",
              "      <th>0</th>\n",
              "      <td>53406</td>\n",
              "      <td>33</td>\n",
              "      <td>3.553276</td>\n",
              "      <td>4.0</td>\n",
              "      <td>5.0</td>\n",
              "      <td>1.0</td>\n",
              "      <td>5.0</td>\n",
              "      <td>3.0</td>\n",
              "      <td>5.0</td>\n",
              "      <td>2.0</td>\n",
              "      <td>5.0</td>\n",
              "      <td>3.0</td>\n",
              "      <td>3.0</td>\n",
              "      <td>3.366667</td>\n",
              "      <td>4.066667</td>\n",
              "      <td>4</td>\n",
              "      <td>3.850205</td>\n",
              "      <td>3.905401</td>\n",
              "      <td>3.840851</td>\n",
              "    </tr>\n",
              "    <tr>\n",
              "      <th>1</th>\n",
              "      <td>99865</td>\n",
              "      <td>33</td>\n",
              "      <td>3.553276</td>\n",
              "      <td>5.0</td>\n",
              "      <td>5.0</td>\n",
              "      <td>4.0</td>\n",
              "      <td>4.0</td>\n",
              "      <td>5.0</td>\n",
              "      <td>5.0</td>\n",
              "      <td>4.0</td>\n",
              "      <td>5.0</td>\n",
              "      <td>4.0</td>\n",
              "      <td>5.0</td>\n",
              "      <td>3.639344</td>\n",
              "      <td>4.066667</td>\n",
              "      <td>5</td>\n",
              "      <td>3.329564</td>\n",
              "      <td>3.139832</td>\n",
              "      <td>3.101314</td>\n",
              "    </tr>\n",
              "  </tbody>\n",
              "</table>\n",
              "</div>"
            ],
            "text/plain": [
              "    user  movie      GAvg  sur1  sur2  sur3  sur4  sur5  smr1  smr2  smr3   \n",
              "0  53406     33  3.553276   4.0   5.0   1.0   5.0   3.0   5.0   2.0   5.0  \\\n",
              "1  99865     33  3.553276   5.0   5.0   4.0   4.0   5.0   5.0   4.0   5.0   \n",
              "\n",
              "   smr4  smr5      UAvg      MAvg  rating     bslpr  knn_bsl_u  knn_bsl_m  \n",
              "0   3.0   3.0  3.366667  4.066667       4  3.850205   3.905401   3.840851  \n",
              "1   4.0   5.0  3.639344  4.066667       5  3.329564   3.139832   3.101314  "
            ]
          },
          "execution_count": 76,
          "metadata": {},
          "output_type": "execute_result"
        }
      ],
      "source": [
        "reg_train['knn_bsl_u'] = models_evaluation_train['knn_bsl_u']['predictions']\n",
        "reg_train['knn_bsl_m'] = models_evaluation_train['knn_bsl_m']['predictions']\n",
        "\n",
        "reg_train.head(2)"
      ]
    },
    {
      "cell_type": "code",
      "execution_count": null,
      "metadata": {
        "id": "xGv8ntPo57-t",
        "outputId": "778c44d9-3745-49f4-9e16-a8afd45672ec"
      },
      "outputs": [
        {
          "data": {
            "text/html": [
              "<div>\n",
              "<style scoped>\n",
              "    .dataframe tbody tr th:only-of-type {\n",
              "        vertical-align: middle;\n",
              "    }\n",
              "\n",
              "    .dataframe tbody tr th {\n",
              "        vertical-align: top;\n",
              "    }\n",
              "\n",
              "    .dataframe thead th {\n",
              "        text-align: right;\n",
              "    }\n",
              "</style>\n",
              "<table border=\"1\" class=\"dataframe\">\n",
              "  <thead>\n",
              "    <tr style=\"text-align: right;\">\n",
              "      <th></th>\n",
              "      <th>user</th>\n",
              "      <th>movie</th>\n",
              "      <th>GAvg</th>\n",
              "      <th>sur1</th>\n",
              "      <th>sur2</th>\n",
              "      <th>sur3</th>\n",
              "      <th>sur4</th>\n",
              "      <th>sur5</th>\n",
              "      <th>smr1</th>\n",
              "      <th>smr2</th>\n",
              "      <th>smr3</th>\n",
              "      <th>smr4</th>\n",
              "      <th>smr5</th>\n",
              "      <th>UAvg</th>\n",
              "      <th>MAvg</th>\n",
              "      <th>rating</th>\n",
              "      <th>bslpr</th>\n",
              "      <th>knn_bsl_u</th>\n",
              "      <th>knn_bsl_m</th>\n",
              "    </tr>\n",
              "  </thead>\n",
              "  <tbody>\n",
              "    <tr>\n",
              "      <th>0</th>\n",
              "      <td>808635</td>\n",
              "      <td>71</td>\n",
              "      <td>3.553276</td>\n",
              "      <td>3.553276</td>\n",
              "      <td>3.553276</td>\n",
              "      <td>3.553276</td>\n",
              "      <td>3.553276</td>\n",
              "      <td>3.553276</td>\n",
              "      <td>3.553276</td>\n",
              "      <td>3.553276</td>\n",
              "      <td>3.553276</td>\n",
              "      <td>3.553276</td>\n",
              "      <td>3.553276</td>\n",
              "      <td>3.553276</td>\n",
              "      <td>3.553276</td>\n",
              "      <td>5</td>\n",
              "      <td>3.553276</td>\n",
              "      <td>3.553276</td>\n",
              "      <td>3.553276</td>\n",
              "    </tr>\n",
              "    <tr>\n",
              "      <th>1</th>\n",
              "      <td>941866</td>\n",
              "      <td>71</td>\n",
              "      <td>3.553276</td>\n",
              "      <td>3.553276</td>\n",
              "      <td>3.553276</td>\n",
              "      <td>3.553276</td>\n",
              "      <td>3.553276</td>\n",
              "      <td>3.553276</td>\n",
              "      <td>3.553276</td>\n",
              "      <td>3.553276</td>\n",
              "      <td>3.553276</td>\n",
              "      <td>3.553276</td>\n",
              "      <td>3.553276</td>\n",
              "      <td>3.553276</td>\n",
              "      <td>3.553276</td>\n",
              "      <td>4</td>\n",
              "      <td>3.553276</td>\n",
              "      <td>3.553276</td>\n",
              "      <td>3.553276</td>\n",
              "    </tr>\n",
              "  </tbody>\n",
              "</table>\n",
              "</div>"
            ],
            "text/plain": [
              "     user  movie      GAvg      sur1      sur2      sur3      sur4      sur5   \n",
              "0  808635     71  3.553276  3.553276  3.553276  3.553276  3.553276  3.553276  \\\n",
              "1  941866     71  3.553276  3.553276  3.553276  3.553276  3.553276  3.553276   \n",
              "\n",
              "       smr1      smr2      smr3      smr4      smr5      UAvg      MAvg   \n",
              "0  3.553276  3.553276  3.553276  3.553276  3.553276  3.553276  3.553276  \\\n",
              "1  3.553276  3.553276  3.553276  3.553276  3.553276  3.553276  3.553276   \n",
              "\n",
              "   rating     bslpr  knn_bsl_u  knn_bsl_m  \n",
              "0       5  3.553276   3.553276   3.553276  \n",
              "1       4  3.553276   3.553276   3.553276  "
            ]
          },
          "execution_count": 77,
          "metadata": {},
          "output_type": "execute_result"
        }
      ],
      "source": [
        "reg_test_df['knn_bsl_u'] = models_evaluation_test['knn_bsl_u']['predictions']\n",
        "reg_test_df['knn_bsl_m'] = models_evaluation_test['knn_bsl_m']['predictions']\n",
        "\n",
        "reg_test_df.head(2)"
      ]
    },
    {
      "cell_type": "markdown",
      "metadata": {
        "id": "6x4x1lPD57-t"
      },
      "source": [
        "### 13. XGboost-16 with 16 Features (13 handcrafted, output of baseline model and output of surprise KNN)"
      ]
    },
    {
      "cell_type": "code",
      "execution_count": null,
      "metadata": {
        "id": "UPYcrePx57-t",
        "outputId": "19caf35f-6cc9-4a22-9f5e-e209a3c19699"
      },
      "outputs": [
        {
          "name": "stdout",
          "output_type": "stream",
          "text": [
            "Training the model..\n"
          ]
        },
        {
          "name": "stderr",
          "output_type": "stream",
          "text": [
            "/home/shantanu/miniconda3/envs/sarvesh/lib/python3.11/site-packages/xgboost/sklearn.py:835: UserWarning: `eval_metric` in `fit` method is deprecated for better compatibility with scikit-learn, use `eval_metric` in constructor or`set_params` instead.\n",
            "  warnings.warn(\n"
          ]
        },
        {
          "name": "stdout",
          "output_type": "stream",
          "text": [
            "Done. Time taken : 0:00:03.308353\n",
            "\n",
            "Done \n",
            "\n",
            "Evaluating the model with TRAIN data...\n",
            "Evaluating Test data\n",
            "\n",
            "TEST DATA\n",
            "------------------------------\n",
            "RMSE :  1.132568352359465\n",
            "MAPE :  32.28808362649644\n"
          ]
        },
        {
          "data": {
            "image/png": "[encoded data removed]",
            "text/plain": [
              "<Figure size 640x480 with 1 Axes>"
            ]
          },
          "metadata": {},
          "output_type": "display_data"
        }
      ],
      "source": [
        "# prepare the train data....\n",
        "x_train = reg_train.drop(['user', 'movie', 'rating'], axis=1)\n",
        "y_train = reg_train['rating']\n",
        "\n",
        "# prepare the train data....\n",
        "x_test = reg_test_df.drop(['user','movie','rating'], axis=1)\n",
        "y_test = reg_test_df['rating']\n",
        "\n",
        "xgb_knn_bsl = xgb.XGBRegressor(n_jobs=10, random_state=15)\n",
        "train_results, test_results = run_xgboost(xgb_knn_bsl, x_train, y_train, x_test, y_test)\n",
        "\n",
        "models_evaluation_train['xgb_knn_bsl'] = train_results\n",
        "models_evaluation_test['xgb_knn_bsl'] = test_results\n",
        "\n",
        "xgb.plot_importance(xgb_knn_bsl)\n",
        "plt.show()"
      ]
    },
    {
      "cell_type": "markdown",
      "metadata": {
        "id": "bjjP0iy957-u"
      },
      "source": [
        "### 14. Surprise SVD"
      ]
    },
    {
      "cell_type": "markdown",
      "metadata": {
        "id": "osIV8HPXrXaJ"
      },
      "source": [
        "Matrix Factorization (SVD):\\\n",
        "The famous SVD algorithm, as popularized by Simon Fite during the Netflix Prize is,\n",
        "\\begin{align}\n",
        "\\large  r_{ui}^* = \\mu + b_u + b_i + q_i^Tp_u\n",
        "\\end{align}\n",
        "\n",
        "\n",
        "$\\pmb q_i$ - Representation of item(movie) in latent factor space\\\n",
        "$\\pmb p_u$ - Representation of user in new latent factor space\n",
        "\n",
        "\\\n",
        "Optimization problem with user item interactions and regularization (to avoid overfitting)\n",
        "\\begin{align}\n",
        "\\large \\sum_{r_{ui} \\in R_{train}} \\left(r_{ui} - r_{ui}^* \\right)^2 +\n",
        "\\lambda\\left(b_i^2 + b_u^2 + ||q_i||^2 + ||p_u||^2\\right)\n",
        "\\end{align}\n",
        "The minimization is performed by a very straightforward stochastic gradient descent, The predicted result $r_{ui}^*$ will be again used later to train  XgBoost Regression Using 18 features"
      ]
    },
    {
      "cell_type": "code",
      "execution_count": null,
      "metadata": {
        "id": "THIBBcCw57-u"
      },
      "outputs": [],
      "source": [
        "from surprise import SVD"
      ]
    },
    {
      "cell_type": "code",
      "execution_count": null,
      "metadata": {
        "id": "PzWCyFFe57-u",
        "outputId": "e9d2a369-a03d-4599-c53a-5f4267f5f986"
      },
      "outputs": [
        {
          "name": "stdout",
          "output_type": "stream",
          "text": [
            "Training the model...\n",
            "Processing epoch 0\n",
            "Processing epoch 1\n",
            "Processing epoch 2\n",
            "Processing epoch 3\n",
            "Processing epoch 4\n",
            "Processing epoch 5\n",
            "Processing epoch 6\n",
            "Processing epoch 7\n",
            "Processing epoch 8\n",
            "Processing epoch 9\n",
            "Processing epoch 10\n",
            "Processing epoch 11\n",
            "Processing epoch 12\n",
            "Processing epoch 13\n",
            "Processing epoch 14\n",
            "Processing epoch 15\n",
            "Processing epoch 16\n",
            "Processing epoch 17\n",
            "Processing epoch 18\n",
            "Processing epoch 19\n",
            "Done. time taken : 0:00:01.173310 \n",
            "\n",
            "Evaluating the model with train data..\n",
            "time taken : 0:00:00.777814\n",
            "---------------\n",
            "Train Data\n",
            "---------------\n",
            "RMSE : 0.6558331059734974\n",
            "\n",
            "MAPE : 19.808208315214067\n",
            "\n",
            "adding train results in the dictionary..\n",
            "\n",
            "Evaluating for test data...\n",
            "time taken : 0:00:00.062544\n",
            "---------------\n",
            "Test Data\n",
            "---------------\n",
            "RMSE : 1.0698761361242832\n",
            "\n",
            "MAPE : 34.71054045263497\n",
            "\n",
            "storing the test results in test dictionary...\n",
            "\n",
            "---------------------------------------------\n",
            "Total time taken to run this algorithm : 0:00:02.013855\n"
          ]
        }
      ],
      "source": [
        "svd = SVD(n_factors=100, biased=True, random_state=15, verbose=True)\n",
        "svd_train_results, svd_test_results = run_surprise(svd, trainset, testset, verbose=True)\n",
        "models_evaluation_train['svd'] = svd_train_results\n",
        "models_evaluation_test['svd'] = svd_test_results"
      ]
    },
    {
      "cell_type": "markdown",
      "metadata": {
        "id": "2wrLyGHf57-u"
      },
      "source": [
        "### 15. SVD++"
      ]
    },
    {
      "cell_type": "markdown",
      "metadata": {
        "id": "iKMbgBRcxhtk"
      },
      "source": [
        "The SVD++ algorithm, an extension of SVD taking into account implicit ratings.\n",
        "\\begin{align}\n",
        " \\large r_{ui}^{'} = \\mu + b_u + b_i + q_i^T\\left(p_u +\n",
        "    |I_u|^{-\\frac{1}{2}} \\sum_{j \\in I_u}y_j\\right)\n",
        "\\end{align}\n",
        "\n",
        "$ \\pmb{I_u}$ - the set of all items rated by user u\\\n",
        "$\\pmb{y_j}$ - Our new set of item factors that capture implicit ratings.\n",
        "\n"
      ]
    },
    {
      "cell_type": "code",
      "execution_count": 1,
      "metadata": {
        "colab": {
          "base_uri": "https://localhost:8080/",
          "height": 315
        },
        "id": "4nVj0lnR57-u",
        "outputId": "4fb1fdba-b157-4cde-c552-ad55e7991619"
      },
      "outputs": [],
      "source": [
        "from surprise import SVDpp"
      ]
    },
    {
      "cell_type": "code",
      "execution_count": 2,
      "metadata": {
        "id": "jj-hQC7g57-v",
        "outputId": "a3a93763-265e-473c-a66b-9c5d2a529366"
      },
      "outputs": [
        {
          "ename": "NameError",
          "evalue": "name 'run_surprise' is not defined",
          "output_type": "error",
          "traceback": [
            "\u001b[0;31m---------------------------------------------------------------------------\u001b[0m",
            "\u001b[0;31mNameError\u001b[0m                                 Traceback (most recent call last)",
            "Cell \u001b[0;32mIn[2], line 2\u001b[0m\n\u001b[1;32m      1\u001b[0m svdpp \u001b[38;5;241m=\u001b[39m SVDpp(n_factors\u001b[38;5;241m=\u001b[39m\u001b[38;5;241m50\u001b[39m, random_state\u001b[38;5;241m=\u001b[39m\u001b[38;5;241m15\u001b[39m, verbose\u001b[38;5;241m=\u001b[39m\u001b[38;5;28;01mTrue\u001b[39;00m)\n\u001b[0;32m----> 2\u001b[0m svdpp_train_results, svdpp_test_results \u001b[38;5;241m=\u001b[39m \u001b[43mrun_surprise\u001b[49m(svdpp, trainset, testset, verbose\u001b[38;5;241m=\u001b[39m\u001b[38;5;28;01mTrue\u001b[39;00m)\n\u001b[1;32m      4\u001b[0m models_evaluation_train[\u001b[38;5;124m'\u001b[39m\u001b[38;5;124msvdpp\u001b[39m\u001b[38;5;124m'\u001b[39m] \u001b[38;5;241m=\u001b[39m svdpp_train_results\n\u001b[1;32m      5\u001b[0m models_evaluation_test[\u001b[38;5;124m'\u001b[39m\u001b[38;5;124msvdpp\u001b[39m\u001b[38;5;124m'\u001b[39m] \u001b[38;5;241m=\u001b[39m svdpp_test_results\n",
            "\u001b[0;31mNameError\u001b[0m: name 'run_surprise' is not defined"
          ]
        }
      ],
      "source": [
        "svdpp = SVDpp(n_factors=50, random_state=15, verbose=True)\n",
        "svdpp_train_results, svdpp_test_results = run_surprise(svdpp, trainset, testset, verbose=True)\n",
        "\n",
        "models_evaluation_train['svdpp'] = svdpp_train_results\n",
        "models_evaluation_test['svdpp'] = svdpp_test_results\n"
      ]
    },
    {
      "cell_type": "code",
      "execution_count": null,
      "metadata": {
        "id": "6OMCFxsK57-w",
        "outputId": "77eef47b-f5e5-4ae5-f524-99d40b7cb52b"
      },
      "outputs": [
        {
          "data": {
            "text/html": [
              "<div>\n",
              "<style scoped>\n",
              "    .dataframe tbody tr th:only-of-type {\n",
              "        vertical-align: middle;\n",
              "    }\n",
              "\n",
              "    .dataframe tbody tr th {\n",
              "        vertical-align: top;\n",
              "    }\n",
              "\n",
              "    .dataframe thead th {\n",
              "        text-align: right;\n",
              "    }\n",
              "</style>\n",
              "<table border=\"1\" class=\"dataframe\">\n",
              "  <thead>\n",
              "    <tr style=\"text-align: right;\">\n",
              "      <th></th>\n",
              "      <th>user</th>\n",
              "      <th>movie</th>\n",
              "      <th>GAvg</th>\n",
              "      <th>sur1</th>\n",
              "      <th>sur2</th>\n",
              "      <th>sur3</th>\n",
              "      <th>sur4</th>\n",
              "      <th>sur5</th>\n",
              "      <th>smr1</th>\n",
              "      <th>smr2</th>\n",
              "      <th>...</th>\n",
              "      <th>smr4</th>\n",
              "      <th>smr5</th>\n",
              "      <th>UAvg</th>\n",
              "      <th>MAvg</th>\n",
              "      <th>rating</th>\n",
              "      <th>bslpr</th>\n",
              "      <th>knn_bsl_u</th>\n",
              "      <th>knn_bsl_m</th>\n",
              "      <th>svd</th>\n",
              "      <th>svdpp</th>\n",
              "    </tr>\n",
              "  </thead>\n",
              "  <tbody>\n",
              "    <tr>\n",
              "      <th>0</th>\n",
              "      <td>53406</td>\n",
              "      <td>33</td>\n",
              "      <td>3.553276</td>\n",
              "      <td>4.0</td>\n",
              "      <td>5.0</td>\n",
              "      <td>1.0</td>\n",
              "      <td>5.0</td>\n",
              "      <td>3.0</td>\n",
              "      <td>5.0</td>\n",
              "      <td>2.0</td>\n",
              "      <td>...</td>\n",
              "      <td>3.0</td>\n",
              "      <td>3.0</td>\n",
              "      <td>3.366667</td>\n",
              "      <td>4.066667</td>\n",
              "      <td>4</td>\n",
              "      <td>3.850205</td>\n",
              "      <td>3.905401</td>\n",
              "      <td>3.840851</td>\n",
              "      <td>3.829412</td>\n",
              "      <td>4.207834</td>\n",
              "    </tr>\n",
              "    <tr>\n",
              "      <th>1</th>\n",
              "      <td>99865</td>\n",
              "      <td>33</td>\n",
              "      <td>3.553276</td>\n",
              "      <td>5.0</td>\n",
              "      <td>5.0</td>\n",
              "      <td>4.0</td>\n",
              "      <td>4.0</td>\n",
              "      <td>5.0</td>\n",
              "      <td>5.0</td>\n",
              "      <td>4.0</td>\n",
              "      <td>...</td>\n",
              "      <td>4.0</td>\n",
              "      <td>5.0</td>\n",
              "      <td>3.639344</td>\n",
              "      <td>4.066667</td>\n",
              "      <td>5</td>\n",
              "      <td>3.329564</td>\n",
              "      <td>3.139832</td>\n",
              "      <td>3.101314</td>\n",
              "      <td>3.400645</td>\n",
              "      <td>3.464591</td>\n",
              "    </tr>\n",
              "  </tbody>\n",
              "</table>\n",
              "<p>2 rows × 21 columns</p>\n",
              "</div>"
            ],
            "text/plain": [
              "    user  movie      GAvg  sur1  sur2  sur3  sur4  sur5  smr1  smr2  ...   \n",
              "0  53406     33  3.553276   4.0   5.0   1.0   5.0   3.0   5.0   2.0  ...  \\\n",
              "1  99865     33  3.553276   5.0   5.0   4.0   4.0   5.0   5.0   4.0  ...   \n",
              "\n",
              "   smr4  smr5      UAvg      MAvg  rating     bslpr  knn_bsl_u  knn_bsl_m   \n",
              "0   3.0   3.0  3.366667  4.066667       4  3.850205   3.905401   3.840851  \\\n",
              "1   4.0   5.0  3.639344  4.066667       5  3.329564   3.139832   3.101314   \n",
              "\n",
              "        svd     svdpp  \n",
              "0  3.829412  4.207834  \n",
              "1  3.400645  3.464591  \n",
              "\n",
              "[2 rows x 21 columns]"
            ]
          },
          "execution_count": 83,
          "metadata": {},
          "output_type": "execute_result"
        }
      ],
      "source": [
        "reg_train['svd'] = models_evaluation_train['svd']['predictions']\n",
        "reg_train['svdpp'] = models_evaluation_train['svdpp']['predictions']\n",
        "\n",
        "reg_train.head(2)"
      ]
    },
    {
      "cell_type": "code",
      "execution_count": null,
      "metadata": {
        "id": "OSqW1lfY57-x",
        "outputId": "4ff3b9c1-02f9-4417-b98a-be1720ab78c3"
      },
      "outputs": [
        {
          "data": {
            "text/html": [
              "<div>\n",
              "<style scoped>\n",
              "    .dataframe tbody tr th:only-of-type {\n",
              "        vertical-align: middle;\n",
              "    }\n",
              "\n",
              "    .dataframe tbody tr th {\n",
              "        vertical-align: top;\n",
              "    }\n",
              "\n",
              "    .dataframe thead th {\n",
              "        text-align: right;\n",
              "    }\n",
              "</style>\n",
              "<table border=\"1\" class=\"dataframe\">\n",
              "  <thead>\n",
              "    <tr style=\"text-align: right;\">\n",
              "      <th></th>\n",
              "      <th>user</th>\n",
              "      <th>movie</th>\n",
              "      <th>GAvg</th>\n",
              "      <th>sur1</th>\n",
              "      <th>sur2</th>\n",
              "      <th>sur3</th>\n",
              "      <th>sur4</th>\n",
              "      <th>sur5</th>\n",
              "      <th>smr1</th>\n",
              "      <th>smr2</th>\n",
              "      <th>...</th>\n",
              "      <th>smr4</th>\n",
              "      <th>smr5</th>\n",
              "      <th>UAvg</th>\n",
              "      <th>MAvg</th>\n",
              "      <th>rating</th>\n",
              "      <th>bslpr</th>\n",
              "      <th>knn_bsl_u</th>\n",
              "      <th>knn_bsl_m</th>\n",
              "      <th>svd</th>\n",
              "      <th>svdpp</th>\n",
              "    </tr>\n",
              "  </thead>\n",
              "  <tbody>\n",
              "    <tr>\n",
              "      <th>0</th>\n",
              "      <td>808635</td>\n",
              "      <td>71</td>\n",
              "      <td>3.553276</td>\n",
              "      <td>3.553276</td>\n",
              "      <td>3.553276</td>\n",
              "      <td>3.553276</td>\n",
              "      <td>3.553276</td>\n",
              "      <td>3.553276</td>\n",
              "      <td>3.553276</td>\n",
              "      <td>3.553276</td>\n",
              "      <td>...</td>\n",
              "      <td>3.553276</td>\n",
              "      <td>3.553276</td>\n",
              "      <td>3.553276</td>\n",
              "      <td>3.553276</td>\n",
              "      <td>5</td>\n",
              "      <td>3.553276</td>\n",
              "      <td>3.553276</td>\n",
              "      <td>3.553276</td>\n",
              "      <td>3.553276</td>\n",
              "      <td>3.553276</td>\n",
              "    </tr>\n",
              "    <tr>\n",
              "      <th>1</th>\n",
              "      <td>941866</td>\n",
              "      <td>71</td>\n",
              "      <td>3.553276</td>\n",
              "      <td>3.553276</td>\n",
              "      <td>3.553276</td>\n",
              "      <td>3.553276</td>\n",
              "      <td>3.553276</td>\n",
              "      <td>3.553276</td>\n",
              "      <td>3.553276</td>\n",
              "      <td>3.553276</td>\n",
              "      <td>...</td>\n",
              "      <td>3.553276</td>\n",
              "      <td>3.553276</td>\n",
              "      <td>3.553276</td>\n",
              "      <td>3.553276</td>\n",
              "      <td>4</td>\n",
              "      <td>3.553276</td>\n",
              "      <td>3.553276</td>\n",
              "      <td>3.553276</td>\n",
              "      <td>3.553276</td>\n",
              "      <td>3.553276</td>\n",
              "    </tr>\n",
              "  </tbody>\n",
              "</table>\n",
              "<p>2 rows × 21 columns</p>\n",
              "</div>"
            ],
            "text/plain": [
              "     user  movie      GAvg      sur1      sur2      sur3      sur4      sur5   \n",
              "0  808635     71  3.553276  3.553276  3.553276  3.553276  3.553276  3.553276  \\\n",
              "1  941866     71  3.553276  3.553276  3.553276  3.553276  3.553276  3.553276   \n",
              "\n",
              "       smr1      smr2  ...      smr4      smr5      UAvg      MAvg  rating   \n",
              "0  3.553276  3.553276  ...  3.553276  3.553276  3.553276  3.553276       5  \\\n",
              "1  3.553276  3.553276  ...  3.553276  3.553276  3.553276  3.553276       4   \n",
              "\n",
              "      bslpr  knn_bsl_u  knn_bsl_m       svd     svdpp  \n",
              "0  3.553276   3.553276   3.553276  3.553276  3.553276  \n",
              "1  3.553276   3.553276   3.553276  3.553276  3.553276  \n",
              "\n",
              "[2 rows x 21 columns]"
            ]
          },
          "execution_count": 84,
          "metadata": {},
          "output_type": "execute_result"
        }
      ],
      "source": [
        "reg_test_df['svd'] = models_evaluation_test['svd']['predictions']\n",
        "reg_test_df['svdpp'] = models_evaluation_test['svdpp']['predictions']\n",
        "\n",
        "reg_test_df.head(2)"
      ]
    },
    {
      "cell_type": "markdown",
      "metadata": {
        "id": "BGiqt5RrzDbQ"
      },
      "source": [
        "### 16. XGboost-18 with 18 Features (13 handcrafted, output of baseline model ,output of surprise KNN,Output of SVD and output of SVD++)"
      ]
    },
    {
      "cell_type": "code",
      "execution_count": null,
      "metadata": {
        "id": "RPSmjIIF57-x",
        "outputId": "7df8a1fa-e793-4a60-b50d-088284bb0a44"
      },
      "outputs": [
        {
          "name": "stdout",
          "output_type": "stream",
          "text": [
            "Training the model..\n"
          ]
        },
        {
          "name": "stderr",
          "output_type": "stream",
          "text": [
            "/home/shantanu/miniconda3/envs/sarvesh/lib/python3.11/site-packages/xgboost/sklearn.py:835: UserWarning: `eval_metric` in `fit` method is deprecated for better compatibility with scikit-learn, use `eval_metric` in constructor or`set_params` instead.\n",
            "  warnings.warn(\n"
          ]
        },
        {
          "name": "stdout",
          "output_type": "stream",
          "text": [
            "Done. Time taken : 0:00:03.464448\n",
            "\n",
            "Done \n",
            "\n",
            "Evaluating the model with TRAIN data...\n",
            "Evaluating Test data\n",
            "\n",
            "TEST DATA\n",
            "------------------------------\n",
            "RMSE :  1.1814834683612185\n",
            "MAPE :  31.41329740409689\n"
          ]
        },
        {
          "data": {
            "image/png": "[encoded data removed]",
            "text/plain": [
              "<Figure size 640x480 with 1 Axes>"
            ]
          },
          "metadata": {},
          "output_type": "display_data"
        }
      ],
      "source": [
        "x_train = reg_train.drop(['user', 'movie', 'rating',], axis=1)\n",
        "y_train = reg_train['rating']\n",
        "\n",
        "x_test = reg_test_df.drop(['user', 'movie', 'rating'], axis=1)\n",
        "y_test = reg_test_df['rating']\n",
        "\n",
        "xgb_final = xgb.XGBRegressor(n_jobs=10, random_state=15)\n",
        "train_results, test_results = run_xgboost(xgb_final, x_train, y_train, x_test, y_test)\n",
        "\n",
        "models_evaluation_train['xgb_final'] = train_results\n",
        "models_evaluation_test['xgb_final'] = test_results\n",
        "\n",
        "xgb.plot_importance(xgb_final)\n",
        "plt.show()"
      ]
    },
    {
      "cell_type": "markdown",
      "metadata": {
        "id": "pcql67pf0WEU"
      },
      "source": [
        "### 17. Final RMSE Loss calculation on Test data"
      ]
    },
    {
      "cell_type": "code",
      "execution_count": null,
      "metadata": {
        "id": "PpF3HhQ257-y",
        "outputId": "f7e8beb6-51f7-445d-b80a-c08d3c249c73"
      },
      "outputs": [
        {
          "data": {
            "text/plain": [
              "bsl_algo          1.0697024551739118\n",
              "knn_bsl_u         1.0697479937154935\n",
              "knn_bsl_m         1.0698742035453888\n",
              "svd               1.0698761361242832\n",
              "svdpp              1.070294929392826\n",
              "xgb_all_models    1.0777246644455034\n",
              "xgb_bsl            1.122584002182969\n",
              "xgb_knn_bsl        1.132568352359465\n",
              "first_algo        1.1469005696747614\n",
              "xgb_final         1.1814834683612185\n",
              "Name: rmse, dtype: object"
            ]
          },
          "execution_count": 87,
          "metadata": {},
          "output_type": "execute_result"
        }
      ],
      "source": [
        "pd.DataFrame(models_evaluation_test).to_csv('small_sample_results.csv')\n",
        "models = pd.read_csv('small_sample_results.csv', index_col=0)\n",
        "models.loc['rmse'].sort_values()"
      ]
    },
    {
      "cell_type": "markdown",
      "metadata": {
        "id": "FqDR2ZFJiOuN"
      },
      "source": [
        "### References\n",
        "\n",
        "We would like to acknowledge below works for inspiring this implementation:\n",
        "\n",
        "- [**The Netflix Prize — How Even AI Leaders Can Trip Up**](https://towardsdatascience.com/the-netflix-prize-how-even-ai-leaders-can-trip-up-5c1f38e95c9f)  \n",
        "  (A detailed explanation of the Netflix Prize and its challenges)\n",
        "\n",
        "- [**Netflix Prize Code by Alex Wiltschko**](https://github.com/alexbw/Netflix-Prize)  \n",
        "  (Top 150 finalist in the Netflix Prize competition)\n",
        "\n",
        "- [**Netflix Recommendations: Beyond the 5 Stars (Part 1)**](https://netflixtechblog.com/netflix-recommendations-beyond-the-5-stars-part-1-55838468f429)  \n",
        "  (An insightful blog by the Netflix engineering team on recommendation systems)\n",
        "\n",
        "- [**Netflix Recommendations: Beyond the 5 Stars (Part 2)**](https://netflixtechblog.com/netflix-recommendations-beyond-the-5-stars-part-2-d9b96aa399f5)  \n",
        "  (Continuation of the Netflix engineering team's blog on their recommendation algorithm)\n",
        "\n",
        "- [**Harsh Raj’s Paper Implementation: Matrix Factorization Recommender Systems**](https://github.com/harshraj11584/Paper-Implementation-Matrix-Factorization-Recommender-Systems-Netflix)  \n",
        "  (A GitHub repository that implements matrix factorization techniques for Netflix’s recommendation system)\n",
        "\n",
        "- [**Movie Recommendation Code by Sivasubramanian B**](https://github.com/storieswithsiva/Movie-Recommendation-Netflix)  \n",
        "  (A GitHub repository showcasing a movie recommendation system for Netflix)\n",
        "\n",
        "- [**Matrix Factorization Techniques for Recommender Systems**](https://ieeexplore.ieee.org/document/5197422) by Y. Koren, R. Bell, and C. Volinsky  \n",
        "  (A highly influential paper on matrix factorization techniques, published in *Computer*, vol. 42, no. 8, pp. 30-37, Aug. 2009)\n",
        "\n",
        "- [**Netflix Prize Challenge Winner Paper by Y. Koren**](https://datajobs.com/data-science-repo/Recommender-Systems-%5BNetflix%5D.pdf)  \n",
        "  (The official paper written by the winner of the Netflix Prize, Y. Koren)\n",
        "\n",
        "- [**Kaggle Netflix Prize Dataset**](https://www.kaggle.com/datasets/netflix-inc/netflix-prize-data/code)  \n",
        "  (Link to the Netflix Prize dataset on Kaggle)\n"
      ]
    }
  ],
  "metadata": {
    "colab": {
      "include_colab_link": true,
      "provenance": []
    },
    "kernelspec": {
      "display_name": "recsys",
      "language": "python",
      "name": "python3"
    },
    "language_info": {
      "codemirror_mode": {
        "name": "ipython",
        "version": 3
      },
      "file_extension": ".py",
      "mimetype": "text/x-python",
      "name": "python",
      "nbconvert_exporter": "python",
      "pygments_lexer": "ipython3",
      "version": "3.9.20"
    },
    "orig_nbformat": 4
  },
  "nbformat": 4,
  "nbformat_minor": 0
}
